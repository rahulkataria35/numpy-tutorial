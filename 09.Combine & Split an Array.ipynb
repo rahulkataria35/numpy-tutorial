{
 "cells": [
  {
   "cell_type": "markdown",
   "id": "e5c362be-3de5-4fc7-9f2d-5c3507575a60",
   "metadata": {},
   "source": [
    "# Combine & Split an Array"
   ]
  },
  {
   "cell_type": "code",
   "execution_count": 3,
   "id": "6716a0ec-d286-4109-9539-1690a6134c2a",
   "metadata": {},
   "outputs": [],
   "source": [
    "import numpy as np"
   ]
  },
  {
   "cell_type": "code",
   "execution_count": 5,
   "id": "eee95a42-0156-409a-b024-f6caea707f30",
   "metadata": {},
   "outputs": [],
   "source": [
    "arr1 = np.array([[1,2,3,4], [1,2,3,4]])\n",
    "arr2 = np.array([[5,6,7,8], [5,6,7,8]])\n"
   ]
  },
  {
   "cell_type": "code",
   "execution_count": 7,
   "id": "366f9f1a-5def-4743-ada8-b0dcedde3023",
   "metadata": {},
   "outputs": [
    {
     "name": "stdout",
     "output_type": "stream",
     "text": [
      "[[1 2 3 4]\n",
      " [1 2 3 4]\n",
      " [5 6 7 8]\n",
      " [5 6 7 8]]\n"
     ]
    }
   ],
   "source": [
    "# concat along the row\n",
    "cat = np.concatenate((arr1, arr2), axis=0)        \n",
    "print(cat)"
   ]
  },
  {
   "cell_type": "code",
   "execution_count": 9,
   "id": "be9dabf1-579b-4dbc-b1d6-aac0ca990338",
   "metadata": {},
   "outputs": [
    {
     "name": "stdout",
     "output_type": "stream",
     "text": [
      "[[1 2 3 4 5 6 7 8]\n",
      " [1 2 3 4 5 6 7 8]]\n"
     ]
    }
   ],
   "source": [
    "\n",
    "# concat along the column\n",
    "cat = np.concatenate((arr1, arr2), axis=1)    \n",
    "print(cat)"
   ]
  },
  {
   "cell_type": "code",
   "execution_count": 11,
   "id": "6742b43c-0686-46a7-8afa-c7a79181d7a5",
   "metadata": {},
   "outputs": [
    {
     "name": "stdout",
     "output_type": "stream",
     "text": [
      "[[1 2 3 4]\n",
      " [1 2 3 4]\n",
      " [5 6 7 8]\n",
      " [5 6 7 8]]\n"
     ]
    }
   ],
   "source": [
    "# stack arrays vertically\n",
    "cat = np.vstack((arr1, arr2))\n",
    "print(cat)"
   ]
  },
  {
   "cell_type": "code",
   "execution_count": 13,
   "id": "8ac521de-6b99-4b53-9277-20ffeec88bf0",
   "metadata": {},
   "outputs": [
    {
     "name": "stdout",
     "output_type": "stream",
     "text": [
      "[[1 2 3 4]\n",
      " [1 2 3 4]\n",
      " [5 6 7 8]\n",
      " [5 6 7 8]]\n"
     ]
    }
   ],
   "source": [
    "# stack arrays vertically\n",
    "cat = np.r_[arr1, arr2]\n",
    "print(cat)"
   ]
  },
  {
   "cell_type": "code",
   "execution_count": 15,
   "id": "496d7e49-fd9b-415a-b6eb-47a9e00bfa76",
   "metadata": {},
   "outputs": [
    {
     "name": "stdout",
     "output_type": "stream",
     "text": [
      "[[1 2 3 4 5 6 7 8]\n",
      " [1 2 3 4 5 6 7 8]]\n"
     ]
    }
   ],
   "source": [
    "# stack arrays horizontally\n",
    "cat = np.hstack((arr1, arr2))\n",
    "print(cat)"
   ]
  },
  {
   "cell_type": "code",
   "execution_count": 17,
   "id": "f9da5742-c658-474b-a66d-fff005c0b8c2",
   "metadata": {},
   "outputs": [
    {
     "name": "stdout",
     "output_type": "stream",
     "text": [
      "[[1 2 3 4 5 6 7 8]\n",
      " [1 2 3 4 5 6 7 8]]\n"
     ]
    }
   ],
   "source": [
    "# stack arrays horizontally\n",
    "cat = np.c_[arr1, arr2]\n",
    "print(cat)\n"
   ]
  },
  {
   "cell_type": "markdown",
   "id": "37a5e388-573d-4754-b131-614e2ec13f44",
   "metadata": {},
   "source": [
    "# split an array\r\n"
   ]
  },
  {
   "cell_type": "code",
   "execution_count": 26,
   "id": "a6dd7f69-a8c5-43a3-af0e-fbb474538d6a",
   "metadata": {},
   "outputs": [
    {
     "data": {
      "text/plain": [
       "array([[0.75734353, 0.83771568, 0.20764225, 0.97267024, 0.23185548,\n",
       "        0.7793301 ],\n",
       "       [0.51635189, 0.42827835, 0.30186707, 0.61228284, 0.60797517,\n",
       "        0.53542808],\n",
       "       [0.1716749 , 0.72959139, 0.533266  , 0.51630052, 0.0083643 ,\n",
       "        0.99541762],\n",
       "       [0.16756348, 0.54114796, 0.2619081 , 0.11981685, 0.13009422,\n",
       "        0.96066202],\n",
       "       [0.47265483, 0.36797917, 0.23040023, 0.64374005, 0.69305494,\n",
       "        0.35097805],\n",
       "       [0.66204705, 0.99258924, 0.80906959, 0.66596374, 0.84780017,\n",
       "        0.36800015]])"
      ]
     },
     "execution_count": 26,
     "metadata": {},
     "output_type": "execute_result"
    }
   ],
   "source": [
    "arr = np.random.rand(6,6)\n",
    "arr"
   ]
  },
  {
   "cell_type": "code",
   "execution_count": 32,
   "id": "0d464bc1-6406-4ba0-ac02-1990a42daffc",
   "metadata": {},
   "outputs": [
    {
     "name": "stdout",
     "output_type": "stream",
     "text": [
      "[array([[0.75734353, 0.83771568, 0.20764225, 0.97267024, 0.23185548,\n",
      "        0.7793301 ],\n",
      "       [0.51635189, 0.42827835, 0.30186707, 0.61228284, 0.60797517,\n",
      "        0.53542808],\n",
      "       [0.1716749 , 0.72959139, 0.533266  , 0.51630052, 0.0083643 ,\n",
      "        0.99541762]]), array([[0.16756348, 0.54114796, 0.2619081 , 0.11981685, 0.13009422,\n",
      "        0.96066202],\n",
      "       [0.47265483, 0.36797917, 0.23040023, 0.64374005, 0.69305494,\n",
      "        0.35097805],\n",
      "       [0.66204705, 0.99258924, 0.80906959, 0.66596374, 0.84780017,\n",
      "        0.36800015]])]\n"
     ]
    }
   ],
   "source": [
    "# split the array vertically into n evenly spaced chunks\n",
    "arr1 = np.vsplit(arr, 2)\n",
    "print(arr1)"
   ]
  },
  {
   "cell_type": "code",
   "execution_count": 34,
   "id": "85d3060a-8362-4cba-8cf8-0fca6f5230ca",
   "metadata": {},
   "outputs": [
    {
     "name": "stdout",
     "output_type": "stream",
     "text": [
      "[array([[0.75734353, 0.83771568, 0.20764225],\n",
      "       [0.51635189, 0.42827835, 0.30186707],\n",
      "       [0.1716749 , 0.72959139, 0.533266  ],\n",
      "       [0.16756348, 0.54114796, 0.2619081 ],\n",
      "       [0.47265483, 0.36797917, 0.23040023],\n",
      "       [0.66204705, 0.99258924, 0.80906959]]), array([[0.97267024, 0.23185548, 0.7793301 ],\n",
      "       [0.61228284, 0.60797517, 0.53542808],\n",
      "       [0.51630052, 0.0083643 , 0.99541762],\n",
      "       [0.11981685, 0.13009422, 0.96066202],\n",
      "       [0.64374005, 0.69305494, 0.35097805],\n",
      "       [0.66596374, 0.84780017, 0.36800015]])]\n"
     ]
    }
   ],
   "source": [
    "# split the array horizontally into n evenly spaced chunks\n",
    "arr2 = np.hsplit(arr, 2)\n",
    "print(arr2)"
   ]
  },
  {
   "cell_type": "code",
   "execution_count": null,
   "id": "9b56d326-c89f-469f-8c44-67396b3e68bc",
   "metadata": {},
   "outputs": [],
   "source": []
  }
 ],
 "metadata": {
  "kernelspec": {
   "display_name": "Python 3 (ipykernel)",
   "language": "python",
   "name": "python3"
  },
  "language_info": {
   "codemirror_mode": {
    "name": "ipython",
    "version": 3
   },
   "file_extension": ".py",
   "mimetype": "text/x-python",
   "name": "python",
   "nbconvert_exporter": "python",
   "pygments_lexer": "ipython3",
   "version": "3.12.4"
  }
 },
 "nbformat": 4,
 "nbformat_minor": 5
}
