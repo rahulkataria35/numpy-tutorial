{
 "cells": [
  {
   "cell_type": "markdown",
   "id": "1f949320-ddb4-4b06-b0a0-cb5adffab43e",
   "metadata": {},
   "source": [
    "9# Manipulate an array"
   ]
  },
  {
   "cell_type": "code",
   "execution_count": 2,
   "id": "985a1f3f-a021-41c5-87c1-5dcd36cf0255",
   "metadata": {},
   "outputs": [],
   "source": [
    "import numpy as np"
   ]
  },
  {
   "cell_type": "code",
   "execution_count": 6,
   "id": "64daf73d-fb24-4654-adcf-353cb06382fa",
   "metadata": {},
   "outputs": [
    {
     "data": {
      "text/plain": [
       "array([[0.41135778, 0.83027282, 0.38330158, 0.50277413],\n",
       "       [0.43279667, 0.14156158, 0.80307928, 0.53416464],\n",
       "       [0.59302716, 0.6744293 , 0.86738941, 0.22944264]])"
      ]
     },
     "execution_count": 6,
     "metadata": {},
     "output_type": "execute_result"
    }
   ],
   "source": [
    "arr = np.random.rand(3,4)\n",
    "arr"
   ]
  },
  {
   "cell_type": "markdown",
   "id": "8da1b6f7-f802-454e-8f2b-6f66d2245e54",
   "metadata": {},
   "source": [
    " # Transpose an Array"
   ]
  },
  {
   "cell_type": "code",
   "execution_count": 9,
   "id": "6a0ca734-5751-4f4a-9f10-36268d231316",
   "metadata": {},
   "outputs": [
    {
     "name": "stdout",
     "output_type": "stream",
     "text": [
      "[[0.41135778 0.43279667 0.59302716]\n",
      " [0.83027282 0.14156158 0.6744293 ]\n",
      " [0.38330158 0.80307928 0.86738941]\n",
      " [0.50277413 0.53416464 0.22944264]]\n",
      "[[0.41135778 0.43279667 0.59302716]\n",
      " [0.83027282 0.14156158 0.6744293 ]\n",
      " [0.38330158 0.80307928 0.86738941]\n",
      " [0.50277413 0.53416464 0.22944264]]\n",
      "[[0.41135778 0.43279667 0.59302716]\n",
      " [0.83027282 0.14156158 0.6744293 ]\n",
      " [0.38330158 0.80307928 0.86738941]\n",
      " [0.50277413 0.53416464 0.22944264]]\n"
     ]
    }
   ],
   "source": [
    "print(arr.T)\n",
    "# or\n",
    "print(np.transpose(arr))\n",
    "# or\n",
    "print(arr.transpose())"
   ]
  },
  {
   "cell_type": "markdown",
   "id": "e59abb03-3711-45fd-9c98-0155d36f209d",
   "metadata": {},
   "source": [
    "### transpose of a high dimensional array with specified order of axes"
   ]
  },
  {
   "cell_type": "code",
   "execution_count": 14,
   "id": "b5e9625c-472a-4b45-a132-e04ac9879913",
   "metadata": {},
   "outputs": [
    {
     "name": "stdout",
     "output_type": "stream",
     "text": [
      "[[[ 0  1  2  3]\n",
      "  [ 4  5  6  7]]\n",
      "\n",
      " [[ 8  9 10 11]\n",
      "  [12 13 14 15]]]\n",
      "----------------\n",
      "[[[ 0  1  2  3]\n",
      "  [ 4  5  6  7]]\n",
      "\n",
      " [[ 8  9 10 11]\n",
      "  [12 13 14 15]]]\n"
     ]
    }
   ],
   "source": [
    "arr1 = np.arange(16).reshape((2,2,4))\n",
    "print(arr1)\n",
    "print(\"----------------\")\n",
    "arr1.transpose((1,0,2))\n",
    "print(arr1)"
   ]
  },
  {
   "cell_type": "markdown",
   "id": "98248467-b240-4c55-a574-72dc9f9dd820",
   "metadata": {},
   "source": [
    "# swap axes"
   ]
  },
  {
   "cell_type": "code",
   "execution_count": 17,
   "id": "f51491a5-dcd2-4d23-852e-caf5c8c58f73",
   "metadata": {},
   "outputs": [
    {
     "name": "stdout",
     "output_type": "stream",
     "text": [
      "[[[ 0  4]\n",
      "  [ 1  5]\n",
      "  [ 2  6]\n",
      "  [ 3  7]]\n",
      "\n",
      " [[ 8 12]\n",
      "  [ 9 13]\n",
      "  [10 14]\n",
      "  [11 15]]]\n"
     ]
    }
   ],
   "source": [
    "arr1 = np.arange(16).reshape((2,2,4))\n",
    "print(arr1.swapaxes(1,2))"
   ]
  },
  {
   "cell_type": "markdown",
   "id": "162f5530-d2d6-4390-a816-2ad2ebd0a80e",
   "metadata": {},
   "source": [
    "# change the shape of an array\n"
   ]
  },
  {
   "cell_type": "code",
   "execution_count": 20,
   "id": "8a5707b2-878a-4832-af0d-0549137cbee9",
   "metadata": {},
   "outputs": [
    {
     "data": {
      "text/plain": [
       "array([[0.41135778, 0.83027282, 0.38330158, 0.50277413, 0.43279667,\n",
       "        0.14156158],\n",
       "       [0.80307928, 0.53416464, 0.59302716, 0.6744293 , 0.86738941,\n",
       "        0.22944264]])"
      ]
     },
     "execution_count": 20,
     "metadata": {},
     "output_type": "execute_result"
    }
   ],
   "source": [
    "# change the shape of an array and return a copy\n",
    "arr.reshape((2,6))"
   ]
  },
  {
   "cell_type": "code",
   "execution_count": 24,
   "id": "054d2b92-d7e0-4fa8-b9fe-8b4cf69889a6",
   "metadata": {},
   "outputs": [
    {
     "data": {
      "text/plain": [
       "array([[0.41135778, 0.83027282, 0.38330158, 0.50277413, 0.43279667,\n",
       "        0.14156158],\n",
       "       [0.80307928, 0.53416464, 0.59302716, 0.6744293 , 0.86738941,\n",
       "        0.22944264]])"
      ]
     },
     "execution_count": 24,
     "metadata": {},
     "output_type": "execute_result"
    }
   ],
   "source": [
    "# change the shape of an array in place\n",
    "arr.resize((2,6))\n",
    "arr"
   ]
  },
  {
   "cell_type": "markdown",
   "id": "446f85ff-2c1d-4192-bbe6-36d58b671cf4",
   "metadata": {},
   "source": [
    "## flatten an array\r\n"
   ]
  },
  {
   "cell_type": "code",
   "execution_count": 32,
   "id": "b7ae2f9f-7c62-41cf-8f68-6c4925793f48",
   "metadata": {},
   "outputs": [
    {
     "data": {
      "text/plain": [
       "array([0.41135778, 0.83027282, 0.38330158, 0.50277413, 0.43279667,\n",
       "       0.14156158, 0.80307928, 0.53416464, 0.59302716, 0.6744293 ,\n",
       "       0.86738941, 0.22944264])"
      ]
     },
     "execution_count": 32,
     "metadata": {},
     "output_type": "execute_result"
    }
   ],
   "source": [
    "# return a copy\n",
    "arr.flatten()   "
   ]
  },
  {
   "cell_type": "code",
   "execution_count": 34,
   "id": "321a2c88-c621-40a4-9279-3e37fe869f20",
   "metadata": {},
   "outputs": [
    {
     "data": {
      "text/plain": [
       "array([0.41135778, 0.83027282, 0.38330158, 0.50277413, 0.43279667,\n",
       "       0.14156158, 0.80307928, 0.53416464, 0.59302716, 0.6744293 ,\n",
       "       0.86738941, 0.22944264])"
      ]
     },
     "execution_count": 34,
     "metadata": {},
     "output_type": "execute_result"
    }
   ],
   "source": [
    "# return a view\n",
    "# change any element in the view will change the initial array\n",
    "arr.ravel()      "
   ]
  },
  {
   "cell_type": "markdown",
   "id": "899d3a44-8d67-40a2-9d64-348de0f0d9e6",
   "metadata": {},
   "source": [
    "# append elements to an array"
   ]
  },
  {
   "cell_type": "code",
   "execution_count": 41,
   "id": "7cde6c66-b8d4-4948-8872-9eade4ee75f5",
   "metadata": {},
   "outputs": [],
   "source": [
    "arr = np.array([1,2,3])"
   ]
  },
  {
   "cell_type": "code",
   "execution_count": 43,
   "id": "7f60f3e7-e676-4762-9b5f-e617560252eb",
   "metadata": {},
   "outputs": [
    {
     "name": "stdout",
     "output_type": "stream",
     "text": [
      "[1 2 3 4 5 6]\n"
     ]
    }
   ],
   "source": [
    "# append an array and return a copy\n",
    "arr2 = np.append(arr, [4,5,6])    \n",
    "print(arr2)"
   ]
  },
  {
   "cell_type": "markdown",
   "id": "7510461d-960d-43ae-bdad-fda96549499d",
   "metadata": {},
   "source": [
    "# insert elements into an array"
   ]
  },
  {
   "cell_type": "code",
   "execution_count": 46,
   "id": "23a68d35-bbc2-4c5e-b7de-12873ce251f4",
   "metadata": {},
   "outputs": [
    {
     "name": "stdout",
     "output_type": "stream",
     "text": [
      "[100   1   2   3]\n"
     ]
    }
   ],
   "source": [
    "# np.insert(array, position, element)\n",
    "\n",
    "# insert a scalar at a certain position\n",
    "arr3 = np.insert(arr, 0, 100)    \n",
    "print(arr3)"
   ]
  },
  {
   "cell_type": "code",
   "execution_count": 48,
   "id": "194fa2ba-40dd-4015-a67d-de4a5e302015",
   "metadata": {},
   "outputs": [
    {
     "name": "stdout",
     "output_type": "stream",
     "text": [
      "[1 2 3 1 2 3]\n"
     ]
    }
   ],
   "source": [
    "# insert multiple values at a certain position\n",
    "arr3 = np.insert(arr, 0, [1,2,3])    \n",
    "print(arr3)"
   ]
  },
  {
   "cell_type": "markdown",
   "id": "b6e1fbfb-6369-4b07-9b9c-936ac106e867",
   "metadata": {},
   "source": [
    "# delete elements from an array\r\n"
   ]
  },
  {
   "cell_type": "code",
   "execution_count": 51,
   "id": "2ab5da18-0418-4076-b2aa-2d220fbaaef2",
   "metadata": {},
   "outputs": [
    {
     "name": "stdout",
     "output_type": "stream",
     "text": [
      "[2 3]\n"
     ]
    }
   ],
   "source": [
    "# remove the element at position 0\n",
    "arr4 = np.delete(arr, 0)    \n",
    "print(arr4)"
   ]
  },
  {
   "cell_type": "code",
   "execution_count": 53,
   "id": "71cf7381-86c0-4652-9840-c9c346e2a8b9",
   "metadata": {},
   "outputs": [
    {
     "name": "stdout",
     "output_type": "stream",
     "text": [
      "[2]\n"
     ]
    }
   ],
   "source": [
    "# remove the element at multiple positions\n",
    "arr4 = np.delete(arr, [0,2])    \n",
    "print(arr4)"
   ]
  },
  {
   "cell_type": "markdown",
   "id": "8a4fb644-998d-4b7b-be74-7e5e2838aa71",
   "metadata": {},
   "source": [
    "# copy an array\r\n"
   ]
  },
  {
   "cell_type": "code",
   "execution_count": 56,
   "id": "6c2f0692-f3c0-4a04-9561-64fcaebbaf0e",
   "metadata": {},
   "outputs": [],
   "source": [
    "arr = np.array([1,2,3])\n"
   ]
  },
  {
   "cell_type": "code",
   "execution_count": 58,
   "id": "f394f56e-2b62-4a3a-a0e1-f8e0163e4f42",
   "metadata": {},
   "outputs": [],
   "source": [
    "# the following methods are all deep copy\n",
    "arr1 = np.copy(arr)\n",
    "# or \n",
    "arr1 = arr.copy()\n",
    "# or \n",
    "arr1 = np.array(arr, copy=True)"
   ]
  },
  {
   "cell_type": "code",
   "execution_count": null,
   "id": "6dccd8de-8a8f-4b0d-9d88-10a819184449",
   "metadata": {},
   "outputs": [],
   "source": []
  }
 ],
 "metadata": {
  "kernelspec": {
   "display_name": "Python 3 (ipykernel)",
   "language": "python",
   "name": "python3"
  },
  "language_info": {
   "codemirror_mode": {
    "name": "ipython",
    "version": 3
   },
   "file_extension": ".py",
   "mimetype": "text/x-python",
   "name": "python",
   "nbconvert_exporter": "python",
   "pygments_lexer": "ipython3",
   "version": "3.12.4"
  }
 },
 "nbformat": 4,
 "nbformat_minor": 5
}
