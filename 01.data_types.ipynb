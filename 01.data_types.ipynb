{
 "cells": [
  {
   "cell_type": "code",
   "execution_count": 1,
   "id": "1dc0f6c8-4ece-41a2-b7be-54eb1367d1b3",
   "metadata": {},
   "outputs": [],
   "source": [
    "import numpy as np\n",
    "import pandas as pd"
   ]
  },
  {
   "cell_type": "markdown",
   "id": "d72d7e80-670f-487d-b40b-8f805d01aa50",
   "metadata": {},
   "source": [
    "# Numpy data types\n",
    "\n",
    "Numpy has the following data types\n",
    "\n",
    "- int\n",
    "- float\n",
    "- complex\n",
    "- bool\n",
    "- string\n",
    "- unicode\n",
    "- object\n",
    "\n",
    "The numeric data types have varioud precisions like 32-bit or 64-bit\n",
    "Numpy data types can be represented using either Type or Type Code"
   ]
  },
  {
   "cell_type": "code",
   "execution_count": 4,
   "id": "959082c7-30d6-47b7-8c33-194e2d5f3f4a",
   "metadata": {},
   "outputs": [
    {
     "data": {
      "text/html": [
       "<div>\n",
       "<style scoped>\n",
       "    .dataframe tbody tr th:only-of-type {\n",
       "        vertical-align: middle;\n",
       "    }\n",
       "\n",
       "    .dataframe tbody tr th {\n",
       "        vertical-align: top;\n",
       "    }\n",
       "\n",
       "    .dataframe thead th {\n",
       "        text-align: right;\n",
       "    }\n",
       "</style>\n",
       "<table border=\"1\" class=\"dataframe\">\n",
       "  <thead>\n",
       "    <tr style=\"text-align: right;\">\n",
       "      <th></th>\n",
       "      <th>Type</th>\n",
       "      <th>Type Code</th>\n",
       "    </tr>\n",
       "  </thead>\n",
       "  <tbody>\n",
       "    <tr>\n",
       "      <th>0</th>\n",
       "      <td>int8</td>\n",
       "      <td>i1</td>\n",
       "    </tr>\n",
       "    <tr>\n",
       "      <th>1</th>\n",
       "      <td>uint8</td>\n",
       "      <td>u1</td>\n",
       "    </tr>\n",
       "    <tr>\n",
       "      <th>2</th>\n",
       "      <td>int16</td>\n",
       "      <td>i2</td>\n",
       "    </tr>\n",
       "    <tr>\n",
       "      <th>3</th>\n",
       "      <td>uint16</td>\n",
       "      <td>u2</td>\n",
       "    </tr>\n",
       "    <tr>\n",
       "      <th>4</th>\n",
       "      <td>int or int32</td>\n",
       "      <td>i4 or i</td>\n",
       "    </tr>\n",
       "    <tr>\n",
       "      <th>5</th>\n",
       "      <td>uint32</td>\n",
       "      <td>u4</td>\n",
       "    </tr>\n",
       "    <tr>\n",
       "      <th>6</th>\n",
       "      <td>int64</td>\n",
       "      <td>i8</td>\n",
       "    </tr>\n",
       "    <tr>\n",
       "      <th>7</th>\n",
       "      <td>uint64</td>\n",
       "      <td>u8</td>\n",
       "    </tr>\n",
       "    <tr>\n",
       "      <th>8</th>\n",
       "      <td>float16</td>\n",
       "      <td>f2</td>\n",
       "    </tr>\n",
       "    <tr>\n",
       "      <th>9</th>\n",
       "      <td>float32</td>\n",
       "      <td>f4 or f</td>\n",
       "    </tr>\n",
       "    <tr>\n",
       "      <th>10</th>\n",
       "      <td>float or float64</td>\n",
       "      <td>f8 or d</td>\n",
       "    </tr>\n",
       "    <tr>\n",
       "      <th>11</th>\n",
       "      <td>float128</td>\n",
       "      <td>f16 or g</td>\n",
       "    </tr>\n",
       "    <tr>\n",
       "      <th>12</th>\n",
       "      <td>complex64</td>\n",
       "      <td>c8</td>\n",
       "    </tr>\n",
       "    <tr>\n",
       "      <th>13</th>\n",
       "      <td>complex or complex128</td>\n",
       "      <td>c16</td>\n",
       "    </tr>\n",
       "    <tr>\n",
       "      <th>14</th>\n",
       "      <td>bool</td>\n",
       "      <td>None</td>\n",
       "    </tr>\n",
       "    <tr>\n",
       "      <th>15</th>\n",
       "      <td>object</td>\n",
       "      <td>O</td>\n",
       "    </tr>\n",
       "    <tr>\n",
       "      <th>16</th>\n",
       "      <td>string_</td>\n",
       "      <td>S</td>\n",
       "    </tr>\n",
       "    <tr>\n",
       "      <th>17</th>\n",
       "      <td>unicode_</td>\n",
       "      <td>U</td>\n",
       "    </tr>\n",
       "  </tbody>\n",
       "</table>\n",
       "</div>"
      ],
      "text/plain": [
       "                     Type Type Code\n",
       "0                    int8        i1\n",
       "1                   uint8        u1\n",
       "2                   int16        i2\n",
       "3                  uint16        u2\n",
       "4            int or int32   i4 or i\n",
       "5                  uint32        u4\n",
       "6                   int64        i8\n",
       "7                  uint64        u8\n",
       "8                 float16        f2\n",
       "9                 float32   f4 or f\n",
       "10       float or float64   f8 or d\n",
       "11               float128  f16 or g\n",
       "12              complex64        c8\n",
       "13  complex or complex128       c16\n",
       "14                   bool      None\n",
       "15                 object         O\n",
       "16                string_         S\n",
       "17               unicode_         U"
      ]
     },
     "execution_count": 4,
     "metadata": {},
     "output_type": "execute_result"
    }
   ],
   "source": [
    "dtypes = pd.DataFrame(\n",
    "    {\n",
    "        'Type': [\n",
    "            'int8', \n",
    "            'uint8', \n",
    "            'int16', \n",
    "            'uint16', \n",
    "            'int or int32', \n",
    "            'uint32', \n",
    "            'int64', \n",
    "            'uint64', \n",
    "            'float16', \n",
    "            'float32', \n",
    "            'float or float64',\n",
    "            'float128', \n",
    "            'complex64', \n",
    "            'complex or complex128', \n",
    "            'bool', \n",
    "            'object', \n",
    "            'string_',\n",
    "            'unicode_',\n",
    "        ],\n",
    "        \n",
    "        'Type Code': [\n",
    "            'i1', \n",
    "            'u1', \n",
    "            'i2', \n",
    "            'u2', \n",
    "            'i4 or i', \n",
    "            'u4', \n",
    "            'i8', \n",
    "            'u8', \n",
    "            'f2', \n",
    "            'f4 or f', \n",
    "            'f8 or d', \n",
    "            'f16 or g', \n",
    "            'c8', \n",
    "            'c16', \n",
    "            None, \n",
    "            'O', \n",
    "            'S', \n",
    "            'U',\n",
    "        ]\n",
    "    }\n",
    ")\n",
    "\n",
    "dtypes\n"
   ]
  },
  {
   "cell_type": "markdown",
   "id": "3d35261d-6e30-4ef1-ad8d-4eb54d23d0e5",
   "metadata": {},
   "source": [
    "- Data types can be defined at creating the numpy arr and converted to other later.\n",
    "- we can use either `type`, `type code` or `np` dot methods to define the data type of an array, but when we use `np` dot method to define the data type, it can only follow `type` rather than `type code`"
   ]
  },
  {
   "cell_type": "code",
   "execution_count": 8,
   "id": "5ce647fe-b6a6-447d-97e5-17ead2765463",
   "metadata": {},
   "outputs": [
    {
     "data": {
      "text/plain": [
       "dtype('float32')"
      ]
     },
     "execution_count": 8,
     "metadata": {},
     "output_type": "execute_result"
    }
   ],
   "source": [
    "arr = np.array([1,2,3], dtype='f4')\n",
    "arr.dtype"
   ]
  },
  {
   "cell_type": "code",
   "execution_count": 12,
   "id": "def8fd4f-40a4-474e-871d-cd1aacab4bd0",
   "metadata": {},
   "outputs": [
    {
     "data": {
      "text/plain": [
       "dtype('float32')"
      ]
     },
     "execution_count": 12,
     "metadata": {},
     "output_type": "execute_result"
    }
   ],
   "source": [
    "arr = np.array([1,2,3], dtype='float32')\n",
    "arr.dtype"
   ]
  },
  {
   "cell_type": "code",
   "execution_count": 14,
   "id": "3b11d7f3-d2a9-4a60-934f-d564bfc41715",
   "metadata": {},
   "outputs": [
    {
     "data": {
      "text/plain": [
       "dtype('complex64')"
      ]
     },
     "execution_count": 14,
     "metadata": {},
     "output_type": "execute_result"
    }
   ],
   "source": [
    "arr = np.array([1+2j, 3-4j], dtype=np.complex64)\n",
    "arr.dtype"
   ]
  },
  {
   "cell_type": "code",
   "execution_count": 16,
   "id": "7e381268-386e-40f3-b71a-87f1011dc37d",
   "metadata": {},
   "outputs": [
    {
     "data": {
      "text/plain": [
       "dtype('complex64')"
      ]
     },
     "execution_count": 16,
     "metadata": {},
     "output_type": "execute_result"
    }
   ],
   "source": [
    "# Identical to the above\n",
    "arr = np.array([1+2j, 3-4j], dtype='c8')\n",
    "arr.dtype\n"
   ]
  },
  {
   "cell_type": "code",
   "execution_count": 18,
   "id": "e26494ea-45aa-4e81-a904-d51de7444915",
   "metadata": {},
   "outputs": [
    {
     "ename": "AttributeError",
     "evalue": "module 'numpy' has no attribute 'c8'",
     "output_type": "error",
     "traceback": [
      "\u001b[1;31m---------------------------------------------------------------------------\u001b[0m",
      "\u001b[1;31mAttributeError\u001b[0m                            Traceback (most recent call last)",
      "Cell \u001b[1;32mIn[18], line 2\u001b[0m\n\u001b[0;32m      1\u001b[0m \u001b[38;5;66;03m# ERROR\u001b[39;00m\n\u001b[1;32m----> 2\u001b[0m arr \u001b[38;5;241m=\u001b[39m np\u001b[38;5;241m.\u001b[39marray([\u001b[38;5;241m1\u001b[39m\u001b[38;5;241m+\u001b[39m\u001b[38;5;241m2\u001b[39mj, \u001b[38;5;241m3\u001b[39m\u001b[38;5;241m-\u001b[39m\u001b[38;5;241m4\u001b[39mj], dtype\u001b[38;5;241m=\u001b[39mnp\u001b[38;5;241m.\u001b[39mc8)\n\u001b[0;32m      3\u001b[0m arr\u001b[38;5;241m.\u001b[39mdtype\n",
      "File \u001b[1;32mC:\\Users\\Rahul Kataria\\anaconda3\\Lib\\site-packages\\numpy\\__init__.py:333\u001b[0m, in \u001b[0;36m__getattr__\u001b[1;34m(attr)\u001b[0m\n\u001b[0;32m    330\u001b[0m     \u001b[38;5;124m\"\u001b[39m\u001b[38;5;124mRemoved in NumPy 1.25.0\u001b[39m\u001b[38;5;124m\"\u001b[39m\n\u001b[0;32m    331\u001b[0m     \u001b[38;5;28;01mraise\u001b[39;00m \u001b[38;5;167;01mRuntimeError\u001b[39;00m(\u001b[38;5;124m\"\u001b[39m\u001b[38;5;124mTester was removed in NumPy 1.25.\u001b[39m\u001b[38;5;124m\"\u001b[39m)\n\u001b[1;32m--> 333\u001b[0m \u001b[38;5;28;01mraise\u001b[39;00m \u001b[38;5;167;01mAttributeError\u001b[39;00m(\u001b[38;5;124m\"\u001b[39m\u001b[38;5;124mmodule \u001b[39m\u001b[38;5;132;01m{!r}\u001b[39;00m\u001b[38;5;124m has no attribute \u001b[39m\u001b[38;5;124m\"\u001b[39m\n\u001b[0;32m    334\u001b[0m                      \u001b[38;5;124m\"\u001b[39m\u001b[38;5;132;01m{!r}\u001b[39;00m\u001b[38;5;124m\"\u001b[39m\u001b[38;5;241m.\u001b[39mformat(\u001b[38;5;18m__name__\u001b[39m, attr))\n",
      "\u001b[1;31mAttributeError\u001b[0m: module 'numpy' has no attribute 'c8'"
     ]
    }
   ],
   "source": [
    "# ERROR\n",
    "arr = np.array([1+2j, 3-4j], dtype=np.c8)\n",
    "arr.dtype"
   ]
  },
  {
   "cell_type": "markdown",
   "id": "e49185da-0d00-428a-a7ad-a5ab8de2ce4a",
   "metadata": {},
   "source": [
    "# Type conversion\n",
    "`astype` method: convert the data type of an array to other data type\n",
    "\n",
    "- Notice that `astype` returns the copy of the array instead of converting the data inplace.\n",
    "- You need to assign the copy to the original array or the new array."
   ]
  },
  {
   "cell_type": "code",
   "execution_count": 23,
   "id": "cfc41199-3dcd-4114-b17d-26d6f9497d07",
   "metadata": {},
   "outputs": [
    {
     "name": "stdout",
     "output_type": "stream",
     "text": [
      "Original Data Type: int16\n",
      "Data Type After Conversion: float32\n"
     ]
    }
   ],
   "source": [
    "arr = np.array([1,2,3], dtype='int16')\n",
    "print('Original Data Type: ' + str(arr.dtype))\n",
    "\n",
    "# here we assign the copy to the original array or the new array.\n",
    "arr = arr.astype(np.float32)\n",
    "print('Data Type After Conversion: ' + str(arr.dtype))"
   ]
  },
  {
   "cell_type": "markdown",
   "id": "1e4dc2c0-33fe-422e-b901-321fbd503413",
   "metadata": {},
   "source": [
    "# WARNING: \n",
    "- be cautious about data overflow when you downcast the data type (from higher precision to lower precision). Some unexpected and undefined values might occur and it is usually difficult to debug such issues."
   ]
  },
  {
   "cell_type": "code",
   "execution_count": 26,
   "id": "bfbdbe89-bb15-4590-8fb6-3ba005f6ebf8",
   "metadata": {},
   "outputs": [
    {
     "name": "stdout",
     "output_type": "stream",
     "text": [
      "np array before type conversion: [126 127 256]\n",
      "np array after type conversion: [126 127   0]\n"
     ]
    }
   ],
   "source": [
    "# An example of integer overflow at downcasting\n",
    "arr = np.array([126,127,256], dtype='int16')\n",
    "print('np array before type conversion: ' + str(arr))\n",
    "\n",
    "# Range of int8 [-128, 127], 256 overflows after conversion\n",
    "arr = arr.astype('int8')\n",
    "print('np array after type conversion: ' + str(arr))"
   ]
  },
  {
   "cell_type": "markdown",
   "id": "73943484-1c6e-4706-904f-12494b3ae337",
   "metadata": {},
   "source": [
    "# String and Unicode Data Type\n",
    "\r\n",
    "The string_ and unicode_ data types are all implicitly fixed-length.\r\n",
    "\r\n",
    "The length of the string is given by their type code appended with a number. For example, S3 represents string of length 3; U10 represents unicode of length 10. Otherwise, the default length is the length of the longest string in the array.\r\n",
    "\r\n",
    "If the length of a string in the array is shorter than the length of the data type defined or converted to, the string will be truncated.ated."
   ]
  },
  {
   "cell_type": "code",
   "execution_count": 42,
   "id": "453bc48f-28a8-41b0-aa23-bd98e4d0919e",
   "metadata": {},
   "outputs": [
    {
     "name": "stdout",
     "output_type": "stream",
     "text": [
      "[b'abc' b'def']\n",
      "['abc' 'efg']\n"
     ]
    }
   ],
   "source": [
    "\n",
    "# An example of truncated string\n",
    "s = np.array(['abc', 'defg'], dtype='S3')\n",
    "print(s)\n",
    "\n",
    "# An example of truncated unicode\n",
    "s = np.array(['abcd', 'efghi'], dtype='U3')\n",
    "print(s)"
   ]
  },
  {
   "cell_type": "code",
   "execution_count": 44,
   "id": "e64c90d2-f5f1-4b12-9243-4d7b6854c2aa",
   "metadata": {},
   "outputs": [
    {
     "name": "stdout",
     "output_type": "stream",
     "text": [
      "The array is [b'a' b'ab' b'abc']\n",
      "The data type is |S3 because the longest string in the array is \"abc\" and its length is 3.\n",
      "The array is ['a' 'abc' 'abcd']\n",
      "The data type is <U4 because the longest unicode in the array is \"abcd\" and its length is 4.\n"
     ]
    }
   ],
   "source": [
    "arr = np.array(['a', 'ab', 'abc'], dtype=np.string_)\n",
    "print('The array is ' + str(arr))\n",
    "print('The data type is ' + str(arr.dtype) + ' because the longest string in the array is \"abc\" and its length is 3.')\n",
    "\n",
    "arr = np.array(['a', 'abc', 'abcd'], dtype=np.unicode_)\n",
    "print('The array is ' + str(arr))\n",
    "print('The data type is ' + str(arr.dtype) + ' because the longest unicode in the array is \"abcd\" and its length is 4.')"
   ]
  },
  {
   "cell_type": "code",
   "execution_count": null,
   "id": "1979c482-556c-40e7-8932-c0fb1d882577",
   "metadata": {},
   "outputs": [],
   "source": []
  },
  {
   "cell_type": "code",
   "execution_count": null,
   "id": "c5d1705d-6859-45eb-b2d7-92eb43e96224",
   "metadata": {},
   "outputs": [],
   "source": []
  }
 ],
 "metadata": {
  "kernelspec": {
   "display_name": "Python 3 (ipykernel)",
   "language": "python",
   "name": "python3"
  },
  "language_info": {
   "codemirror_mode": {
    "name": "ipython",
    "version": 3
   },
   "file_extension": ".py",
   "mimetype": "text/x-python",
   "name": "python",
   "nbconvert_exporter": "python",
   "pygments_lexer": "ipython3",
   "version": "3.12.4"
  }
 },
 "nbformat": 4,
 "nbformat_minor": 5
}
