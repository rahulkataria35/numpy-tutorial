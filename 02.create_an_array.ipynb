{
 "cells": [
  {
   "cell_type": "code",
   "execution_count": 1,
   "id": "0cc081ca-4d4a-473c-a60f-eaa3099523da",
   "metadata": {},
   "outputs": [],
   "source": [
    "import numpy as np"
   ]
  },
  {
   "cell_type": "markdown",
   "id": "88c3e49e-7fab-4735-96db-1ff9596a0d62",
   "metadata": {},
   "source": [
    "# Create an array from an iterable\n",
    "\n",
    "such as \n",
    "\n",
    "- list\n",
    "- tuple\n",
    "- range\n",
    "\n",
    "Notice that not all iterables can be used to create a numpy array, such as `set` and `dict`."
   ]
  },
  {
   "cell_type": "code",
   "execution_count": 4,
   "id": "01bf295c-d455-41d2-8414-edcdff720646",
   "metadata": {},
   "outputs": [
    {
     "data": {
      "text/plain": [
       "array([1, 2, 3, 4, 5])"
      ]
     },
     "execution_count": 4,
     "metadata": {},
     "output_type": "execute_result"
    }
   ],
   "source": [
    "arr = np.array([1,2,3,4,5])\n",
    "arr"
   ]
  },
  {
   "cell_type": "code",
   "execution_count": 6,
   "id": "0bf99da8-8842-4dac-90f1-e49dbf9784ef",
   "metadata": {},
   "outputs": [
    {
     "data": {
      "text/plain": [
       "array([1, 2, 3, 4, 5])"
      ]
     },
     "execution_count": 6,
     "metadata": {},
     "output_type": "execute_result"
    }
   ],
   "source": [
    "arr1 = np.array((1,2,3,4,5))\n",
    "arr1"
   ]
  },
  {
   "cell_type": "code",
   "execution_count": 10,
   "id": "7873ecf7-9d97-4c57-b94e-92763ccaeddd",
   "metadata": {},
   "outputs": [
    {
     "data": {
      "text/plain": [
       "array([0, 1, 2, 3, 4, 5, 6, 7, 8, 9])"
      ]
     },
     "execution_count": 10,
     "metadata": {},
     "output_type": "execute_result"
    }
   ],
   "source": [
    "arr2= np.array(range(10))\n",
    "arr2"
   ]
  },
  {
   "cell_type": "markdown",
   "id": "7758e207-b3ad-495f-b124-5caaa5571eb0",
   "metadata": {},
   "source": [
    "## Creating an array with specified Data Type"
   ]
  },
  {
   "cell_type": "code",
   "execution_count": 13,
   "id": "9159f3c8-5e43-426d-b7b2-f6a99ef2e515",
   "metadata": {},
   "outputs": [
    {
     "name": "stdout",
     "output_type": "stream",
     "text": [
      "[[1 2 3]\n",
      " [4 5 6]]\n",
      "Data Type: int16\n"
     ]
    }
   ],
   "source": [
    "arr = np.array([[1,2,3], [4,5,6]], dtype='i2')\n",
    "print(arr)\n",
    "print('Data Type: ' + str(arr.dtype))"
   ]
  },
  {
   "cell_type": "markdown",
   "id": "8e5f7f1d-32fd-4b73-889b-1af8d5791690",
   "metadata": {},
   "source": [
    "## Creating an array within specified range\n",
    "`np.arange()` can be used to replace `np.array(range())` method \n"
   ]
  },
  {
   "cell_type": "code",
   "execution_count": 16,
   "id": "0198e7d4-fd58-4ced-b07b-06af58d3c738",
   "metadata": {},
   "outputs": [
    {
     "name": "stdout",
     "output_type": "stream",
     "text": [
      "[ 0  2  4  6  8 10 12 14 16 18 20]\n"
     ]
    }
   ],
   "source": [
    "arr = np.arange(0,21,2)\n",
    "print(arr)"
   ]
  },
  {
   "cell_type": "markdown",
   "id": "f895c34b-7509-445c-af57-bcc3b2f7ac94",
   "metadata": {},
   "source": [
    "# Create an array of evenly spaced numbers within specified range\n",
    "\n",
    "np.linspace(start, stop, num_of_elements, endpoint=True, retstep=False) has 5 parameters:\n",
    "\n",
    "- start: start number (inclusive)\n",
    "- stop: end number (inclusive unless endpoint set to False)\n",
    "- num_of_elements: number of elements contained in the array\n",
    "- endpoint: boolean value representing whether the stop number is inclusive or not\n",
    "- retstep: boolean value representing whether to return the step size"
   ]
  },
  {
   "cell_type": "code",
   "execution_count": 19,
   "id": "7701ddc8-5112-4ff0-91c0-4d36a2d4f3f1",
   "metadata": {},
   "outputs": [
    {
     "name": "stdout",
     "output_type": "stream",
     "text": [
      "[0.    0.625 1.25  1.875 2.5   3.125 3.75  4.375]\n",
      "The step size is 0.625\n"
     ]
    }
   ],
   "source": [
    "arr, step_size = np.linspace(0,5,8, endpoint=False, retstep=True)\n",
    "print(arr)\n",
    "print('The step size is ' + str(step_size))\n"
   ]
  },
  {
   "cell_type": "markdown",
   "id": "eff83c05-fa8c-4291-a3b6-15ddfa22fdff",
   "metadata": {},
   "source": [
    "# Create an array of random values of given shape\n",
    "\r",
    "- `\n",
    "np.random.rand(`) method returns values in the range` [0,1`)"
   ]
  },
  {
   "cell_type": "code",
   "execution_count": 30,
   "id": "210d7d30-1a60-4a7d-8563-b583d5b15465",
   "metadata": {},
   "outputs": [
    {
     "name": "stdout",
     "output_type": "stream",
     "text": [
      "[[0.43650164 0.56038295 0.1497008 ]\n",
      " [0.02477006 0.27571201 0.81952822]\n",
      " [0.94818164 0.51222022 0.72107288]]\n"
     ]
    }
   ],
   "source": [
    "arr = np.random.rand(3,3)\n",
    "print(arr)"
   ]
  },
  {
   "cell_type": "markdown",
   "id": "af1ae97d-09ae-4f3e-93cc-cea3e54d8f36",
   "metadata": {},
   "source": [
    "# Create an array of zeros of given shape\n",
    "- `\r\n",
    "np.zeros` (): create array of all zeros in given sha\n",
    "- `e\r\n",
    "np.zeros_lik` e(): create array of all zeros with the same shape and data type as the given input array"
   ]
  },
  {
   "cell_type": "code",
   "execution_count": 45,
   "id": "5db7f68f-17ec-4f9b-8880-8c6f375ca43c",
   "metadata": {},
   "outputs": [
    {
     "name": "stdout",
     "output_type": "stream",
     "text": [
      "[[0. 0. 0.]\n",
      " [0. 0. 0.]]\n"
     ]
    }
   ],
   "source": [
    "zeros = np.zeros((2,3))\n",
    "print(zeros)"
   ]
  },
  {
   "cell_type": "code",
   "execution_count": 51,
   "id": "880594bd-1f77-4cf8-90ee-1a7b8e15b330",
   "metadata": {},
   "outputs": [
    {
     "name": "stdout",
     "output_type": "stream",
     "text": [
      "[[0. 0.]\n",
      " [0. 0.]\n",
      " [0. 0.]]\n",
      "Data Type: float64\n"
     ]
    }
   ],
   "source": [
    "arr = np.array([[1,2], [3,4],[5,6]], dtype=np.float_)\n",
    "zeros = np.zeros_like(arr)\n",
    "print(zeros)\n",
    "print('Data Type: ' + str(zeros.dtype))"
   ]
  },
  {
   "cell_type": "markdown",
   "id": "e3812908-9f2b-4bc0-868d-519be34063e8",
   "metadata": {},
   "source": [
    "# Create an array of ones of given shape\r\n",
    "- `np.ones()`): create array of all ones in given shap\n",
    "- `\r\n",
    "np.ones_like`(): create array of all ones with the same shape and data type as the given input array"
   ]
  },
  {
   "cell_type": "code",
   "execution_count": 61,
   "id": "4240fbd6-ff22-4354-8047-bb590fc485e2",
   "metadata": {},
   "outputs": [
    {
     "name": "stdout",
     "output_type": "stream",
     "text": [
      "[[1. 1.]\n",
      " [1. 1.]\n",
      " [1. 1.]]\n"
     ]
    }
   ],
   "source": [
    "ones = np.ones((3,2))\n",
    "print(ones)"
   ]
  },
  {
   "cell_type": "code",
   "execution_count": 63,
   "id": "6358fe4e-fb83-4c7a-88b4-f6c911cde6f5",
   "metadata": {},
   "outputs": [
    {
     "name": "stdout",
     "output_type": "stream",
     "text": [
      "[[1 1 1]\n",
      " [1 1 1]]\n",
      "Data Type: int32\n"
     ]
    }
   ],
   "source": [
    "arr = [[1,2,3], [4,5,6]]\n",
    "ones = np.ones_like(arr)\n",
    "print(ones)\n",
    "print('Data Type: ' + str(ones.dtype))"
   ]
  },
  {
   "cell_type": "markdown",
   "id": "c499bbcb-0453-4300-9413-9914ff197e69",
   "metadata": {},
   "source": [
    "# Create an empty array of given shape\n",
    "\n",
    "- `np.empty()` : create array of empty values in given shape\n",
    "- `np.empty_like()` : create array of empty values with the same shape and data type as the given input array\n",
    "\n",
    "### Notice that the initial values are not necessarily set to zeroes.They are just some garbage values in random memory addresses."
   ]
  },
  {
   "cell_type": "code",
   "execution_count": 75,
   "id": "5f5d9f34-b604-4272-a5f8-7d00797841c9",
   "metadata": {},
   "outputs": [
    {
     "name": "stdout",
     "output_type": "stream",
     "text": [
      "[[2.41907520e-312 1.31932391e-311 2.34480535e-312]\n",
      " [2.37663529e-312 2.22809558e-312 2.46151512e-312]\n",
      " [2.22523004e-306 2.22522596e-306 5.18768928e-322]]\n"
     ]
    }
   ],
   "source": [
    "empty = np.empty((3,3))\n",
    "print(empty)"
   ]
  },
  {
   "cell_type": "code",
   "execution_count": 77,
   "id": "1a506235-f210-497b-b710-fa837871de0c",
   "metadata": {},
   "outputs": [
    {
     "name": "stdout",
     "output_type": "stream",
     "text": [
      "[[4607182418800017408 4611686018427387904 4613937818241073152]\n",
      " [4616189618054758400 4617315517961601024 4618441417868443648]]\n",
      "Data Type: int64\n"
     ]
    }
   ],
   "source": [
    "arr = np.array([[1,2,3], [4,5,6]], dtype=np.int64)\n",
    "empty = np.empty_like(arr)\n",
    "print(empty)\n",
    "print('Data Type: ' + str(empty.dtype))"
   ]
  },
  {
   "cell_type": "markdown",
   "id": "71b7e365-e5fc-4560-b2b2-10d58c61eb18",
   "metadata": {},
   "source": [
    "# Create an array of constant values of given shape\n",
    "\n",
    "- `np.full()`: create array of constant values in given shape\n",
    "- `np.full_like()`: create array of constant values with the same shape and data type as the given input array"
   ]
  },
  {
   "cell_type": "code",
   "execution_count": 90,
   "id": "58f47185-8b6a-455d-9412-e5d403064ded",
   "metadata": {},
   "outputs": [
    {
     "name": "stdout",
     "output_type": "stream",
     "text": [
      "[[5 5 5 5]\n",
      " [5 5 5 5]\n",
      " [5 5 5 5]\n",
      " [5 5 5 5]]\n"
     ]
    }
   ],
   "source": [
    "full = np.full((4,4), 5)\n",
    "print(full)"
   ]
  },
  {
   "cell_type": "code",
   "execution_count": 92,
   "id": "ea136592-6436-478c-ad64-db844db4e9fa",
   "metadata": {},
   "outputs": [
    {
     "name": "stdout",
     "output_type": "stream",
     "text": [
      "[[5. 5.]\n",
      " [5. 5.]]\n",
      "Data Type: float64\n"
     ]
    }
   ],
   "source": [
    "arr = np.array([[1,2], [3,4]], dtype=np.float64)\n",
    "full = np.full_like(arr, 5)\n",
    "print(full)\n",
    "print('Data Type: ' + str(full.dtype))"
   ]
  },
  {
   "cell_type": "markdown",
   "id": "8528d3a6-c1d7-4947-ad36-4423485941b9",
   "metadata": {},
   "source": [
    "# Create an array in a repetitive manneri\n",
    "1. `np.repeat(iterable, reps, axis=None)` : repeat each element by n times\n",
    "\n",
    "    - `iterable`: input arr\n",
    "    - `reps`: no. of repetitions\n",
    "    - `axis`: which axis to repeat along, default is None which will flatten the input arr and then repeat\n",
    "  \n",
    "2. `np.tile()` : repeat the whole arr by n-times\n",
    "\n",
    "    - iterable: input arr\n",
    "    - reps: no. of repetitions, it can be tuple to represent repetitions along x and y -axiss\n",
    "```\r\n"
   ]
  },
  {
   "cell_type": "code",
   "execution_count": 128,
   "id": "5aefdb7f-0583-40f9-8780-731d5784e797",
   "metadata": {},
   "outputs": [
    {
     "name": "stdout",
     "output_type": "stream",
     "text": [
      "[0 0 0 1 1 1 2 2 2 3 3 3 4 4 4 5 5 5]\n"
     ]
    }
   ],
   "source": [
    "\n",
    "# No axis specified, then flatten the input array first and repeat\n",
    "arr = [[0, 1, 2], [3, 4, 5]]\n",
    "print(np.repeat(arr, 3)) "
   ]
  },
  {
   "cell_type": "code",
   "execution_count": 130,
   "id": "9b161897-4c51-4976-9189-daa0c09e3ad0",
   "metadata": {},
   "outputs": [
    {
     "name": "stdout",
     "output_type": "stream",
     "text": [
      "[[0 1 2]\n",
      " [0 1 2]\n",
      " [0 1 2]\n",
      " [3 4 5]\n",
      " [3 4 5]\n",
      " [3 4 5]]\n"
     ]
    }
   ],
   "source": [
    "# An example of repeating along x-axis\n",
    "arr = [[0, 1, 2], [3, 4, 5]]\n",
    "print(np.repeat(arr, 3, axis=0)) "
   ]
  },
  {
   "cell_type": "code",
   "execution_count": 132,
   "id": "f4192118-a356-4b5a-b2a6-3d26e0316d8a",
   "metadata": {},
   "outputs": [
    {
     "name": "stdout",
     "output_type": "stream",
     "text": [
      "[[0 0 0 1 1 1 2 2 2]\n",
      " [3 3 3 4 4 4 5 5 5]]\n"
     ]
    }
   ],
   "source": [
    "# An example of repeating along y-axis\n",
    "arr = [[0, 1, 2], [3, 4, 5]]\n",
    "print(np.repeat(arr, 3, axis=1))    "
   ]
  },
  {
   "cell_type": "code",
   "execution_count": 134,
   "id": "0a03177c-dfc9-483c-b383-3c8bfe784911",
   "metadata": {},
   "outputs": [
    {
     "name": "stdout",
     "output_type": "stream",
     "text": [
      "[0 1 2 0 1 2 0 1 2]\n"
     ]
    }
   ],
   "source": [
    "# Repeat the whole array by a specified number of times\n",
    "arr = [0, 1, 2]\n",
    "print(np.tile(arr, 3))"
   ]
  },
  {
   "cell_type": "code",
   "execution_count": 136,
   "id": "cab2aa57-9264-47bc-82b7-112e4effde71",
   "metadata": {},
   "outputs": [
    {
     "name": "stdout",
     "output_type": "stream",
     "text": [
      "[[0 1 2 0 1 2]\n",
      " [0 1 2 0 1 2]]\n"
     ]
    }
   ],
   "source": [
    "# Repeat along specified axes\n",
    "print(np.tile(arr, (2,2)))\n"
   ]
  },
  {
   "cell_type": "markdown",
   "id": "1f6adcf0-ca0b-4ae0-bc05-5cb384dfc6c1",
   "metadata": {},
   "source": [
    "# Create an identity matrix of given size\n",
    "\r",
    "- `\n",
    "np.eye(size, k=0` ): create an identity matrix of given\n",
    "\n",
    "- `np.identity()` : same as np.eye() but does not carry parametersmeters"
   ]
  },
  {
   "cell_type": "code",
   "execution_count": 147,
   "id": "24151580-7660-4fca-8fd3-a45f32abecaa",
   "metadata": {},
   "outputs": [
    {
     "name": "stdout",
     "output_type": "stream",
     "text": [
      "[[1. 0. 0. 0. 0.]\n",
      " [0. 1. 0. 0. 0.]\n",
      " [0. 0. 1. 0. 0.]\n",
      " [0. 0. 0. 1. 0.]\n",
      " [0. 0. 0. 0. 1.]]\n"
     ]
    }
   ],
   "source": [
    "identity_matrix = np.eye(5)\n",
    "print(identity_matrix)"
   ]
  },
  {
   "cell_type": "code",
   "execution_count": 153,
   "id": "1e5f093a-9071-4d1a-84dd-1e14bda539a2",
   "metadata": {},
   "outputs": [
    {
     "name": "stdout",
     "output_type": "stream",
     "text": [
      "[[0. 0. 0. 0. 0.]\n",
      " [1. 0. 0. 0. 0.]\n",
      " [0. 1. 0. 0. 0.]\n",
      " [0. 0. 1. 0. 0.]\n",
      " [0. 0. 0. 1. 0.]]\n"
     ]
    }
   ],
   "source": [
    "# An example of diagonal offset\n",
    "identity_matrix = np.eye(5, k=-1)\n",
    "print(identity_matrix)"
   ]
  },
  {
   "cell_type": "markdown",
   "id": "d20541d3-f8dc-4950-98d3-0a8ee7953c1f",
   "metadata": {},
   "source": [
    "### Create an array with given values on the diagonal\r\n"
   ]
  },
  {
   "cell_type": "code",
   "execution_count": 158,
   "id": "c907295c-1063-4f45-83fe-7135bce223c9",
   "metadata": {},
   "outputs": [
    {
     "name": "stdout",
     "output_type": "stream",
     "text": [
      "[[0.37191957 0.86740782 0.58030333 0.49883383 0.7682499 ]\n",
      " [0.99280693 0.65417404 0.42945937 0.79162662 0.81057713]\n",
      " [0.59007835 0.17801276 0.13948417 0.14908906 0.80311008]\n",
      " [0.53003772 0.40613043 0.80119045 0.27336325 0.78391487]\n",
      " [0.07691974 0.12881024 0.39432735 0.52116449 0.53401405]]\n",
      "\n",
      "Values on the diagonal: [0.37191957 0.65417404 0.13948417 0.27336325 0.53401405]\n"
     ]
    }
   ],
   "source": [
    "arr = np.random.rand(5,5)\n",
    "print(arr)\n",
    "\n",
    "# Extract values on the diagonal\\\n",
    "\n",
    "print('\\nValues on the diagonal: ' + str(np.diag(arr)))"
   ]
  },
  {
   "cell_type": "code",
   "execution_count": 160,
   "id": "71a4287d-9d47-4e91-80b7-ef52a713a6e6",
   "metadata": {},
   "outputs": [
    {
     "name": "stdout",
     "output_type": "stream",
     "text": [
      "[[0.20959344 0.21062153 0.19536044]\n",
      " [0.49775723 0.39503128 0.51664851]\n",
      " [0.20118385 0.8138266  0.30494008]\n",
      " [0.0968381  0.62385591 0.13516302]\n",
      " [0.32356686 0.30403633 0.88200168]\n",
      " [0.19233079 0.57584259 0.0233268 ]\n",
      " [0.67110298 0.91705213 0.08975896]\n",
      " [0.20002645 0.88662939 0.15823233]\n",
      " [0.44564085 0.49926323 0.43875629]\n",
      " [0.96976604 0.33796118 0.53975355]]\n",
      "\n",
      "Values on the diagonal: [0.20959344 0.39503128 0.30494008]\n"
     ]
    }
   ],
   "source": [
    "# Not necessarily to be a square matrix\n",
    "arr = np.random.rand(10,3)\n",
    "print(arr)\n",
    "# Extract values on the diagonal\n",
    "print('\\nValues on the diagonal: ' + str(np.diag(arr)))"
   ]
  },
  {
   "cell_type": "code",
   "execution_count": 162,
   "id": "a98687a6-089e-4328-9e1a-3f61ef63951b",
   "metadata": {},
   "outputs": [
    {
     "name": "stdout",
     "output_type": "stream",
     "text": [
      "[[1 0 0 0 0]\n",
      " [0 2 0 0 0]\n",
      " [0 0 3 0 0]\n",
      " [0 0 0 4 0]\n",
      " [0 0 0 0 5]]\n"
     ]
    }
   ],
   "source": [
    "# Create a matrix given values on the diagonal\n",
    "# All non-diagonal values set to zeros\n",
    "arr = np.diag([1,2,3,4,5])\n",
    "print(arr)"
   ]
  },
  {
   "cell_type": "code",
   "execution_count": null,
   "id": "36f6329a-77d4-40a3-a8b9-8f957a3ce8a0",
   "metadata": {},
   "outputs": [],
   "source": []
  }
 ],
 "metadata": {
  "kernelspec": {
   "display_name": "Python 3 (ipykernel)",
   "language": "python",
   "name": "python3"
  },
  "language_info": {
   "codemirror_mode": {
    "name": "ipython",
    "version": 3
   },
   "file_extension": ".py",
   "mimetype": "text/x-python",
   "name": "python",
   "nbconvert_exporter": "python",
   "pygments_lexer": "ipython3",
   "version": "3.12.4"
  }
 },
 "nbformat": 4,
 "nbformat_minor": 5
}
