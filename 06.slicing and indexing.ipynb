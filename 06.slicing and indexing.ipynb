{
 "cells": [
  {
   "cell_type": "code",
   "execution_count": 1,
   "id": "7f52b383-f089-4709-8591-d7327df0d257",
   "metadata": {},
   "outputs": [],
   "source": [
    "import numpy as np"
   ]
  },
  {
   "cell_type": "code",
   "execution_count": 3,
   "id": "57f68989-571d-496a-b892-7d2a504a98ff",
   "metadata": {},
   "outputs": [
    {
     "data": {
      "text/plain": [
       "array([[ 0,  1,  2,  3,  4,  5,  6,  7,  8,  9],\n",
       "       [10, 11, 12, 13, 14, 15, 16, 17, 18, 19],\n",
       "       [20, 21, 22, 23, 24, 25, 26, 27, 28, 29],\n",
       "       [30, 31, 32, 33, 34, 35, 36, 37, 38, 39],\n",
       "       [40, 41, 42, 43, 44, 45, 46, 47, 48, 49],\n",
       "       [50, 51, 52, 53, 54, 55, 56, 57, 58, 59],\n",
       "       [60, 61, 62, 63, 64, 65, 66, 67, 68, 69],\n",
       "       [70, 71, 72, 73, 74, 75, 76, 77, 78, 79],\n",
       "       [80, 81, 82, 83, 84, 85, 86, 87, 88, 89],\n",
       "       [90, 91, 92, 93, 94, 95, 96, 97, 98, 99]])"
      ]
     },
     "execution_count": 3,
     "metadata": {},
     "output_type": "execute_result"
    }
   ],
   "source": [
    "arr = np.array(range(100)).reshape((10,10))\n",
    "arr"
   ]
  },
  {
   "cell_type": "code",
   "execution_count": 7,
   "id": "2e1eeeda-20f7-4b7e-96f7-ab45b6d1e4d2",
   "metadata": {},
   "outputs": [
    {
     "name": "stdout",
     "output_type": "stream",
     "text": [
      "55\n",
      "55\n"
     ]
    }
   ],
   "source": [
    "# select an element by row and column indices\n",
    "print(arr[5][5])\n",
    "# or more concisely\n",
    "print(arr[5,5])"
   ]
  },
  {
   "cell_type": "markdown",
   "id": "08573f23-4986-4ca1-8311-abe3efceaa68",
   "metadata": {},
   "source": [
    "# indexing with slicing\r\n"
   ]
  },
  {
   "cell_type": "code",
   "execution_count": 10,
   "id": "8cf9ceae-c10e-4b8f-a677-0dc3ab909450",
   "metadata": {},
   "outputs": [
    {
     "name": "stdout",
     "output_type": "stream",
     "text": [
      "[[14 15]\n",
      " [24 25]]\n"
     ]
    }
   ],
   "source": [
    "print(arr[1:3, 4:6])"
   ]
  },
  {
   "cell_type": "code",
   "execution_count": 14,
   "id": "9c6f690a-867a-4123-8632-17afe93965e3",
   "metadata": {},
   "outputs": [
    {
     "name": "stdout",
     "output_type": "stream",
     "text": [
      "\n",
      "[[[0 1]\n",
      "  [2 3]]\n",
      "\n",
      " [[4 5]\n",
      "  [6 7]]]\n"
     ]
    }
   ],
   "source": [
    "# ellipsis slicing: auto-complete the dimensions\n",
    "arr = np.array(range(16)).reshape(2,2,2,2)\n",
    "# print(arr)\n",
    "print()\n",
    "# equivalent to arr[0,:,:,:]\n",
    "print(arr[0, ...])  "
   ]
  },
  {
   "cell_type": "markdown",
   "id": "670c5e1b-db95-4fe6-8739-94f02ce403f1",
   "metadata": {},
   "source": [
    "# assign a scalar to a slice by broadcasting\r\n"
   ]
  },
  {
   "cell_type": "code",
   "execution_count": 17,
   "id": "b27e18e6-0ba4-4868-8dc4-3daaa530605a",
   "metadata": {},
   "outputs": [
    {
     "name": "stdout",
     "output_type": "stream",
     "text": [
      "[[[[  0   1]\n",
      "   [  2   3]]\n",
      "\n",
      "  [[  4   5]\n",
      "   [  6   7]]]\n",
      "\n",
      "\n",
      " [[[100 100]\n",
      "   [100 100]]\n",
      "\n",
      "  [[100 100]\n",
      "   [100 100]]]]\n"
     ]
    }
   ],
   "source": [
    "arr[1:3,:] = 100    # or simply arr[1:3]\n",
    "arr[:,8:] = 100\n",
    "print(arr)"
   ]
  },
  {
   "cell_type": "markdown",
   "id": "a7bb7b0e-b279-4275-ab8a-fb916cbd9164",
   "metadata": {},
   "source": [
    "# boolean indexing\r\n"
   ]
  },
  {
   "cell_type": "code",
   "execution_count": 20,
   "id": "a2f014c1-6e9f-47b7-9f27-53e94109336d",
   "metadata": {},
   "outputs": [
    {
     "name": "stdout",
     "output_type": "stream",
     "text": [
      "[[ 0  1  2  3  4]\n",
      " [ 5  6  7  8  9]\n",
      " [15 16 17 18 19]]\n"
     ]
    }
   ],
   "source": [
    "arr1 = np.arange(25).reshape((5,5))\n",
    "bools = np.array([True, True, False, True, False])\n",
    "print(arr1[bools])"
   ]
  },
  {
   "cell_type": "code",
   "execution_count": 22,
   "id": "be4396cd-5556-4bdc-955a-2373e7d0fdac",
   "metadata": {},
   "outputs": [
    {
     "name": "stdout",
     "output_type": "stream",
     "text": [
      "[[10 11 12 13 14]\n",
      " [20 21 22 23 24]]\n"
     ]
    }
   ],
   "source": [
    "# negate the condition\n",
    "print(arr1[~bools])  "
   ]
  },
  {
   "cell_type": "code",
   "execution_count": 24,
   "id": "5f61c3e7-20ba-4904-8a77-60ade818499a",
   "metadata": {},
   "outputs": [
    {
     "name": "stdout",
     "output_type": "stream",
     "text": [
      "[[ 0  1  2  3  4]\n",
      " [20 21 22 23 24]]\n"
     ]
    }
   ],
   "source": [
    "arr2 = np.array([1,2,3,4,5])\n",
    "# multiple conditions\n",
    "print(arr1[(arr2<2) | (arr2>4)])   "
   ]
  },
  {
   "cell_type": "markdown",
   "id": "600b2d5c-f133-4505-9fbc-3dc079f2b026",
   "metadata": {},
   "source": [
    "# fancy indexing\r\n"
   ]
  },
  {
   "cell_type": "code",
   "execution_count": 29,
   "id": "3e69eec9-5826-410a-82b9-3deb20b7aa7a",
   "metadata": {},
   "outputs": [
    {
     "data": {
      "text/plain": [
       "array([[0.34168944, 0.1225423 , 0.78088726, 0.31722288, 0.61709944,\n",
       "        0.67207944, 0.86443162, 0.95765668, 0.1942473 , 0.27335124],\n",
       "       [0.61622672, 0.7204078 , 0.06076616, 0.5296213 , 0.55182115,\n",
       "        0.62356853, 0.151408  , 0.7367471 , 0.75345906, 0.45571608],\n",
       "       [0.62123882, 0.51750278, 0.420247  , 0.13859035, 0.57826118,\n",
       "        0.72195673, 0.75054165, 0.9278075 , 0.71415579, 0.67381174],\n",
       "       [0.99204168, 0.72096616, 0.71113417, 0.94005757, 0.34538139,\n",
       "        0.57825276, 0.08038842, 0.3149121 , 0.11430061, 0.46613929],\n",
       "       [0.15073484, 0.7480605 , 0.4086824 , 0.66667767, 0.53215314,\n",
       "        0.52432085, 0.37784989, 0.203874  , 0.21489751, 0.89327427],\n",
       "       [0.31008712, 0.7815384 , 0.2402109 , 0.01873482, 0.17413566,\n",
       "        0.86377159, 0.60997755, 0.32258825, 0.71483562, 0.05878691],\n",
       "       [0.41162189, 0.96116056, 0.68510203, 0.40133079, 0.67660067,\n",
       "        0.87549832, 0.62526822, 0.81704557, 0.34956824, 0.91039761],\n",
       "       [0.76052673, 0.24226652, 0.07081231, 0.92634641, 0.75299222,\n",
       "        0.42666451, 0.96305799, 0.72717475, 0.33882645, 0.34043453],\n",
       "       [0.39588526, 0.92147065, 0.80551742, 0.08844575, 0.68639258,\n",
       "        0.92597207, 0.67761907, 0.30604154, 0.28340916, 0.7550468 ],\n",
       "       [0.45288142, 0.50509195, 0.41239125, 0.55963416, 0.41432963,\n",
       "        0.16528941, 0.47000084, 0.50329686, 0.17604379, 0.80189617]])"
      ]
     },
     "execution_count": 29,
     "metadata": {},
     "output_type": "execute_result"
    }
   ],
   "source": [
    "arr = np.random.rand(10,10)\n",
    "arr"
   ]
  },
  {
   "cell_type": "code",
   "execution_count": 31,
   "id": "6377bc94-a234-4214-afe9-59bd2bb28e44",
   "metadata": {},
   "outputs": [
    {
     "name": "stdout",
     "output_type": "stream",
     "text": [
      "[0.94005757 0.06076616 0.51750278]\n"
     ]
    }
   ],
   "source": [
    "# select arr[3,3], arr[1,2], arr[2,1]\n",
    "print(arr[[3,1,2], [3,2,1]])    "
   ]
  },
  {
   "cell_type": "code",
   "execution_count": 33,
   "id": "410817da-1562-4039-9e23-588e0cd4f57c",
   "metadata": {},
   "outputs": [
    {
     "name": "stdout",
     "output_type": "stream",
     "text": [
      "[[0.08038842 0.34538139 0.11430061]\n",
      " [0.151408   0.55182115 0.75345906]\n",
      " [0.75054165 0.57826118 0.71415579]]\n"
     ]
    }
   ],
   "source": [
    "# select rows 3,1,2 and columns 6,4,8 \n",
    "print(arr[[3,1,2]][:, [6,4,8]])  "
   ]
  },
  {
   "cell_type": "markdown",
   "id": "72985473-daf2-4c0e-b253-9d6cc8940aa6",
   "metadata": {},
   "source": [
    "# dimension inference\n"
   ]
  },
  {
   "cell_type": "code",
   "execution_count": 36,
   "id": "4044c08e-3a18-473b-aa2a-1c6abfeb9e56",
   "metadata": {},
   "outputs": [
    {
     "name": "stdout",
     "output_type": "stream",
     "text": [
      "(4, 4)\n"
     ]
    }
   ],
   "source": [
    "# dimension inference using any negative number (usually -1)\n",
    "arr = np.array(range(16)).reshape((4,-1))\n",
    "print(arr.shape)"
   ]
  },
  {
   "cell_type": "markdown",
   "id": "d4b52f40-812b-4eec-8918-8e9224b31fbe",
   "metadata": {},
   "source": [
    "# find elements/indices by conditions\r\n"
   ]
  },
  {
   "cell_type": "code",
   "execution_count": 41,
   "id": "7a5debb3-a5c4-41af-916a-540d47136293",
   "metadata": {},
   "outputs": [
    {
     "data": {
      "text/plain": [
       "array([[ 0,  1,  2,  3],\n",
       "       [ 4,  5,  6,  7],\n",
       "       [ 8,  9, 10, 11],\n",
       "       [12, 13, 14, 15]])"
      ]
     },
     "execution_count": 41,
     "metadata": {},
     "output_type": "execute_result"
    }
   ],
   "source": [
    "arr = np.arange(16).reshape(4,4)\n",
    "arr"
   ]
  },
  {
   "cell_type": "code",
   "execution_count": 43,
   "id": "53484a03-faf2-451d-87e5-f8643e0a2ce5",
   "metadata": {},
   "outputs": [
    {
     "name": "stdout",
     "output_type": "stream",
     "text": [
      "[ 6  7  8  9 10 11 12 13 14 15]\n"
     ]
    }
   ],
   "source": [
    "# find the elements greater than 5 and return a flattened array\n",
    "print(arr[arr>5])    # or arr[np.where(arr>5)]"
   ]
  },
  {
   "cell_type": "code",
   "execution_count": 45,
   "id": "8187a2d5-2f08-4f11-ad03-78b7e7cf9abd",
   "metadata": {},
   "outputs": [
    {
     "name": "stdout",
     "output_type": "stream",
     "text": [
      "[[10 10 10 10]\n",
      " [10 10 -1 -1]\n",
      " [-1 -1 -1 -1]\n",
      " [-1 -1 -1 -1]]\n"
     ]
    }
   ],
   "source": [
    "# return values based on conditions \n",
    "# np.where(condition, true_return, false_return)\n",
    "print(np.where(arr>5, -1, 10))"
   ]
  },
  {
   "cell_type": "code",
   "execution_count": 47,
   "id": "04246bc0-df72-4809-bd1c-6bd5b2c0a9f5",
   "metadata": {},
   "outputs": [
    {
     "name": "stdout",
     "output_type": "stream",
     "text": [
      "[[1 2]\n",
      " [1 3]\n",
      " [2 0]\n",
      " [2 1]\n",
      " [2 2]\n",
      " [2 3]\n",
      " [3 0]\n",
      " [3 1]\n",
      " [3 2]\n",
      " [3 3]]\n"
     ]
    }
   ],
   "source": [
    "# find the indices of the elements on conditions\n",
    "print(np.argwhere(arr>5))"
   ]
  },
  {
   "cell_type": "code",
   "execution_count": null,
   "id": "e1fa9f29-a420-4e02-b680-ce190ca653bd",
   "metadata": {},
   "outputs": [],
   "source": []
  }
 ],
 "metadata": {
  "kernelspec": {
   "display_name": "Python 3 (ipykernel)",
   "language": "python",
   "name": "python3"
  },
  "language_info": {
   "codemirror_mode": {
    "name": "ipython",
    "version": 3
   },
   "file_extension": ".py",
   "mimetype": "text/x-python",
   "name": "python",
   "nbconvert_exporter": "python",
   "pygments_lexer": "ipython3",
   "version": "3.12.4"
  }
 },
 "nbformat": 4,
 "nbformat_minor": 5
}
