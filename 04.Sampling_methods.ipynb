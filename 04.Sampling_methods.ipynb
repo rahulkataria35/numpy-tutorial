{
 "cells": [
  {
   "cell_type": "code",
   "execution_count": 1,
   "id": "ef96e37d-ded1-43e5-9c3b-0ba7deb8a0b3",
   "metadata": {},
   "outputs": [],
   "source": [
    "import numpy as np"
   ]
  },
  {
   "cell_type": "code",
   "execution_count": 23,
   "id": "daf69acb-d054-472a-aeb4-5729a659815b",
   "metadata": {},
   "outputs": [],
   "source": [
    "# set seed\n",
    "np.random.seed(123)"
   ]
  },
  {
   "cell_type": "code",
   "execution_count": 9,
   "id": "146dc464-e012-4f36-8edb-c33bc3479a41",
   "metadata": {},
   "outputs": [
    {
     "data": {
      "text/plain": [
       "array([0.88594794, 0.07791236, 0.97964616, 0.24767146, 0.75288472,\n",
       "       0.52667564, 0.90755375, 0.8840703 , 0.08926896, 0.5173446 ])"
      ]
     },
     "execution_count": 9,
     "metadata": {},
     "output_type": "execute_result"
    }
   ],
   "source": [
    "# set random state which is independent from the global seed\n",
    "rs = np.random.RandomState(321)\n",
    "rs.rand(10)"
   ]
  },
  {
   "cell_type": "markdown",
   "id": "1daaf3e5-1401-4072-a49b-ebbf6e59588a",
   "metadata": {},
   "source": [
    "## generate a random sample from interval [0, 1) in a given shape\n"
   ]
  },
  {
   "cell_type": "code",
   "execution_count": 13,
   "id": "e55067ca-374c-4eb8-8a51-ae3be60b12e9",
   "metadata": {},
   "outputs": [
    {
     "name": "stdout",
     "output_type": "stream",
     "text": [
      "0.6964691855978616\n"
     ]
    }
   ],
   "source": [
    "# generate a random scalar\n",
    "print(np.random.rand())    "
   ]
  },
  {
   "cell_type": "code",
   "execution_count": 15,
   "id": "bdeabfbf-fcc9-4d63-81cd-c70f2a89cca2",
   "metadata": {},
   "outputs": [
    {
     "name": "stdout",
     "output_type": "stream",
     "text": [
      "[0.28613933 0.22685145 0.55131477]\n"
     ]
    }
   ],
   "source": [
    "# generate a 1-D array\n",
    "print(np.random.rand(3)) "
   ]
  },
  {
   "cell_type": "code",
   "execution_count": 27,
   "id": "023c3a8a-a252-449e-8089-c7dd72fb19c2",
   "metadata": {},
   "outputs": [
    {
     "name": "stdout",
     "output_type": "stream",
     "text": [
      "[[0.39211752 0.34317802 0.72904971]\n",
      " [0.43857224 0.0596779  0.39804426]\n",
      " [0.73799541 0.18249173 0.17545176]]\n"
     ]
    }
   ],
   "source": [
    "# generate a 2-D array\n",
    "print(np.random.rand(3,3))    "
   ]
  },
  {
   "cell_type": "markdown",
   "id": "beddb109-6388-47b9-a15b-91bd57cc38a3",
   "metadata": {},
   "source": [
    "## generate a sample from the standard normal distribution (mean = 0, var = 1)"
   ]
  },
  {
   "cell_type": "code",
   "execution_count": 33,
   "id": "6c40ad59-f5d0-4528-ac0c-f0a34542bcdc",
   "metadata": {},
   "outputs": [
    {
     "name": "stdout",
     "output_type": "stream",
     "text": [
      "[[-0.6377515   0.9071052  -1.4286807 ]\n",
      " [-0.14006872 -0.8617549  -0.25561937]\n",
      " [-2.79858911 -1.7715331  -0.69987723]]\n"
     ]
    }
   ],
   "source": [
    "print(np.random.randn(3,3))"
   ]
  },
  {
   "cell_type": "markdown",
   "id": "41c5af32-f937-44af-8304-3997964863a4",
   "metadata": {},
   "source": [
    "# generate an array of random integers in a given interval [low, high)"
   ]
  },
  {
   "cell_type": "code",
   "execution_count": 43,
   "id": "60e8eb36-0ce5-495f-b292-d6409ee7bfea",
   "metadata": {},
   "outputs": [
    {
     "name": "stdout",
     "output_type": "stream",
     "text": [
      "[1 7 5]\n"
     ]
    }
   ],
   "source": [
    "# np.ranodm.randint(low, high, size, dtype)\n",
    "print(np.random.randint(1, 10, 3, 'i8'))"
   ]
  },
  {
   "cell_type": "markdown",
   "id": "38e5669b-aaf1-425c-9f9f-d09d36384322",
   "metadata": {},
   "source": [
    "# generate an array of random floating-point numbers in the interval [0.0, 1.0)"
   ]
  },
  {
   "cell_type": "code",
   "execution_count": 48,
   "id": "86fbf9f9-d457-49fc-a4d8-d6e1f632e352",
   "metadata": {},
   "outputs": [
    {
     "name": "stdout",
     "output_type": "stream",
     "text": [
      "[0.36310407 0.85497282 0.7113918  0.39294441 0.23130148 0.38017471\n",
      " 0.5491621  0.55671906 0.00413464 0.63802252]\n",
      "\n",
      "[0.05764801 0.04302691 0.87505113 0.2925876  0.76276766 0.36786526\n",
      " 0.87350227 0.02942373 0.55204372 0.2402475 ]\n",
      "\n",
      "[0.88480501 0.46023842 0.19317033 0.2936925  0.81792751 0.55948738\n",
      " 0.67792545 0.80912668 0.86857215 0.41799246]\n",
      "\n",
      "[0.05893816 0.478459   0.52115943 0.58063202 0.309199   0.91988263\n",
      " 0.6553475  0.34924138 0.54109404 0.4490534 ]\n"
     ]
    }
   ],
   "source": [
    "# the following methods are the same as np.random.rand()\n",
    "print(np.random.random_sample(10))\n",
    "print()\n",
    "print(np.random.random(10))\n",
    "print()\n",
    "print(np.random.ranf(10))\n",
    "print()\n",
    "print(np.random.sample(10))"
   ]
  },
  {
   "cell_type": "markdown",
   "id": "327d9816-0590-4f4d-949d-c69989b67ee0",
   "metadata": {},
   "source": [
    "# generate a random sample from a given 1-D array\r\n"
   ]
  },
  {
   "cell_type": "code",
   "execution_count": 60,
   "id": "75511318-09b5-4ccb-91a2-f8af9c17723f",
   "metadata": {},
   "outputs": [
    {
     "data": {
      "text/plain": [
       "array([0, 0, 1, 1, 1, 1, 1, 1])"
      ]
     },
     "execution_count": 60,
     "metadata": {},
     "output_type": "execute_result"
    }
   ],
   "source": [
    "# np.random.choice(iterable_or_int, size, replace=True, p=weights)\n",
    "np.random.choice(range(3), 8, replace = True,  p=[0.1, 0.8, 0.1])"
   ]
  },
  {
   "cell_type": "code",
   "execution_count": 62,
   "id": "915e389e-7bfc-4e42-ad19-bd480d2e51fa",
   "metadata": {},
   "outputs": [
    {
     "name": "stdout",
     "output_type": "stream",
     "text": [
      "[2 1 1 1 1 1 2 2 1 2]\n"
     ]
    }
   ],
   "source": [
    "print(np.random.choice(3, 10))\n"
   ]
  },
  {
   "cell_type": "code",
   "execution_count": 64,
   "id": "5d7f158e-cdec-4987-85e5-49edf946693b",
   "metadata": {},
   "outputs": [
    {
     "name": "stdout",
     "output_type": "stream",
     "text": [
      "[1 2 1 2 2 3 2 3 1 3]\n"
     ]
    }
   ],
   "source": [
    "print(np.random.choice([1,2,3], 10))\n"
   ]
  },
  {
   "cell_type": "markdown",
   "id": "ac8668d1-b8f9-41d8-850e-992ca187ce7d",
   "metadata": {},
   "source": [
    "# shuffle an array in place\r\n"
   ]
  },
  {
   "cell_type": "code",
   "execution_count": 67,
   "id": "dba691f8-3a47-4da1-84bb-728d1d586c90",
   "metadata": {},
   "outputs": [
    {
     "name": "stdout",
     "output_type": "stream",
     "text": [
      "[0 1 2 3 4 5 6 7 8 9]\n"
     ]
    }
   ],
   "source": [
    "\n",
    "arr = np.array(range(10))\n",
    "print(arr)"
   ]
  },
  {
   "cell_type": "code",
   "execution_count": 69,
   "id": "6c0252bd-c492-49b0-946b-172b18fb17c7",
   "metadata": {},
   "outputs": [
    {
     "name": "stdout",
     "output_type": "stream",
     "text": [
      "[9 6 3 7 0 2 4 1 8 5]\n"
     ]
    }
   ],
   "source": [
    "\n",
    "np.random.shuffle(arr)\n",
    "print(arr)"
   ]
  },
  {
   "cell_type": "markdown",
   "id": "545b5b39-c7fb-41c5-be56-b2846a77f706",
   "metadata": {},
   "source": [
    "# generate a permutation of an array\r\n"
   ]
  },
  {
   "cell_type": "code",
   "execution_count": 76,
   "id": "235c4e8b-5d9d-466b-8684-2926d2ce8e2d",
   "metadata": {},
   "outputs": [
    {
     "name": "stdout",
     "output_type": "stream",
     "text": [
      "The initial array:  [0 1 2]\n",
      "A permutation of the array:  [0 2 1]\n"
     ]
    }
   ],
   "source": [
    "# similar to np.random.shuffle(), but it returns a copy rather than making changes in place\n",
    "arr = np.array(range(3))\n",
    "print('The initial array: ', arr)\n",
    "print('A permutation of the array: ', np.random.permutation(arr))"
   ]
  },
  {
   "cell_type": "code",
   "execution_count": null,
   "id": "f8358103-5ce0-4d6a-a6cb-5c37e3667127",
   "metadata": {},
   "outputs": [],
   "source": []
  }
 ],
 "metadata": {
  "kernelspec": {
   "display_name": "Python 3 (ipykernel)",
   "language": "python",
   "name": "python3"
  },
  "language_info": {
   "codemirror_mode": {
    "name": "ipython",
    "version": 3
   },
   "file_extension": ".py",
   "mimetype": "text/x-python",
   "name": "python",
   "nbconvert_exporter": "python",
   "pygments_lexer": "ipython3",
   "version": "3.12.4"
  }
 },
 "nbformat": 4,
 "nbformat_minor": 5
}
