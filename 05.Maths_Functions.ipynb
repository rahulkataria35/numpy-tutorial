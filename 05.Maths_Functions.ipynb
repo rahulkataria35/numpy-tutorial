{
 "cells": [
  {
   "cell_type": "markdown",
   "id": "9dea651c-6538-4181-a566-c82d0eaa0b4f",
   "metadata": {},
   "source": [
    "# Maths Functions"
   ]
  },
  {
   "cell_type": "code",
   "execution_count": 2,
   "id": "f3e242b3-7e40-41e0-b5d9-837f3cd684f9",
   "metadata": {},
   "outputs": [],
   "source": [
    "import numpy as np\n"
   ]
  },
  {
   "cell_type": "code",
   "execution_count": 3,
   "id": "d74b91af-369f-49f6-b00b-f55b5a54723a",
   "metadata": {},
   "outputs": [
    {
     "data": {
      "text/plain": [
       "array([[0.83633879, 0.04500869, 0.23616948, 0.28729418, 0.14491601],\n",
       "       [0.61381973, 0.43593393, 0.54050252, 0.06235847, 0.18099269],\n",
       "       [0.07284436, 0.14761635, 0.55118917, 0.38227185, 0.17071341],\n",
       "       [0.38334693, 0.01790869, 0.98028072, 0.64908186, 0.31755831],\n",
       "       [0.99754876, 0.08386622, 0.60045895, 0.10048046, 0.46055075]])"
      ]
     },
     "execution_count": 3,
     "metadata": {},
     "output_type": "execute_result"
    }
   ],
   "source": [
    "arr = np.random.rand(5,5)\n",
    "arr"
   ]
  },
  {
   "cell_type": "code",
   "execution_count": 4,
   "id": "a668801e-aeeb-444b-bbaa-9d8c2d422b0e",
   "metadata": {},
   "outputs": [
    {
     "name": "stdout",
     "output_type": "stream",
     "text": [
      "[[10.83633879 10.04500869 10.23616948 10.28729418 10.14491601]\n",
      " [10.61381973 10.43593393 10.54050252 10.06235847 10.18099269]\n",
      " [10.07284436 10.14761635 10.55118917 10.38227185 10.17071341]\n",
      " [10.38334693 10.01790869 10.98028072 10.64908186 10.31755831]\n",
      " [10.99754876 10.08386622 10.60045895 10.10048046 10.46055075]]\n",
      "\n",
      "[[-9.16366121 -9.95499131 -9.76383052 -9.71270582 -9.85508399]\n",
      " [-9.38618027 -9.56406607 -9.45949748 -9.93764153 -9.81900731]\n",
      " [-9.92715564 -9.85238365 -9.44881083 -9.61772815 -9.82928659]\n",
      " [-9.61665307 -9.98209131 -9.01971928 -9.35091814 -9.68244169]\n",
      " [-9.00245124 -9.91613378 -9.39954105 -9.89951954 -9.53944925]]\n",
      "\n",
      "[[8.36338793 0.45008695 2.36169477 2.8729418  1.44916011]\n",
      " [6.13819733 4.3593393  5.40502517 0.62358471 1.80992694]\n",
      " [0.72844362 1.47616353 5.51189166 3.82271847 1.70713413]\n",
      " [3.83346928 0.17908687 9.80280717 6.49081865 3.17558307]\n",
      " [9.9754876  0.83866224 6.00458948 1.00480459 4.60550752]]\n",
      "\n",
      "[[0.08363388 0.00450087 0.02361695 0.02872942 0.0144916 ]\n",
      " [0.06138197 0.04359339 0.05405025 0.00623585 0.01809927]\n",
      " [0.00728444 0.01476164 0.05511892 0.03822718 0.01707134]\n",
      " [0.03833469 0.00179087 0.09802807 0.06490819 0.03175583]\n",
      " [0.09975488 0.00838662 0.06004589 0.01004805 0.04605508]]\n"
     ]
    }
   ],
   "source": [
    "# element-wise addition, subtraction, multiplication and division\n",
    "print(arr + 10)\n",
    "print()\n",
    "print(arr - 10)\n",
    "print()\n",
    "print(arr * 10)\n",
    "print()\n",
    "print(arr / 10)"
   ]
  },
  {
   "cell_type": "code",
   "execution_count": 5,
   "id": "c5e4370a-5c81-4d99-a1d9-3843992526b5",
   "metadata": {},
   "outputs": [
    {
     "name": "stdout",
     "output_type": "stream",
     "text": [
      "[ 9 11 13]\n",
      "[1 2 3]\n",
      "[1 4 9]\n"
     ]
    }
   ],
   "source": [
    "# the above operations can be performed using numpy built-in functions\n",
    "# which can save memory as the output can be stored in the original array rather than assigning new memory\n",
    "arr1 = np.array([1,2,3])\n",
    "np.add(arr1, [8,9,10], out=arr1)\n",
    "print(arr1)\n",
    "\n",
    "np.subtract(arr1, [8,9,10], out=arr1)\n",
    "print(arr1)\n",
    "\n",
    "np.multiply(arr1, [1,2,3], out=arr1)\n",
    "print(arr1)"
   ]
  },
  {
   "cell_type": "markdown",
   "id": "2631fcbc-abec-4ad2-a714-87d033aa0b1c",
   "metadata": {},
   "source": [
    "## element-wise exponentiation\r\n"
   ]
  },
  {
   "cell_type": "code",
   "execution_count": 7,
   "id": "ea9ddc60-e63e-49f1-a6d0-8a995552e05f",
   "metadata": {},
   "outputs": [
    {
     "name": "stdout",
     "output_type": "stream",
     "text": [
      "[[2.30790178 1.04603695 1.26638892 1.33281624 1.15594248]\n",
      " [1.8474748  1.54640662 1.7168694  1.06434381 1.19840642]\n",
      " [1.07556312 1.15906814 1.73531537 1.46561045 1.18615077]\n",
      " [1.46718695 1.01807001 2.6652043  1.91378291 1.37376934]\n",
      " [2.71162683 1.0874834  1.82295525 1.10570203 1.58494666]]\n"
     ]
    }
   ],
   "source": [
    "print(np.exp(arr))"
   ]
  },
  {
   "cell_type": "markdown",
   "id": "91232d9b-3dae-4fd6-a9f9-5fdee3d18f4b",
   "metadata": {},
   "source": [
    "# element-wise logorithm\r",
    ">"
   ]
  },
  {
   "cell_type": "code",
   "execution_count": 9,
   "id": "0a651623-1416-44e5-916a-9e24ca981d8d",
   "metadata": {},
   "outputs": [
    {
     "name": "stdout",
     "output_type": "stream",
     "text": [
      "[[-1.78721493e-01 -3.10089959e+00 -1.44320561e+00 -1.24724857e+00\n",
      "  -1.93160094e+00]\n",
      " [-4.88053988e-01 -8.30264584e-01 -6.15255985e-01 -2.77485575e+00\n",
      "  -1.70929861e+00]\n",
      " [-2.61943015e+00 -1.91313858e+00 -5.95677214e-01 -9.61623283e-01\n",
      "  -1.76776908e+00]\n",
      " [-9.58814884e-01 -4.02246939e+00 -1.99163029e-02 -4.32196430e-01\n",
      "  -1.14709383e+00]\n",
      " [-2.45424937e-03 -2.47853232e+00 -5.10061002e-01 -2.29779201e+00\n",
      "  -7.75332219e-01]]\n"
     ]
    }
   ],
   "source": [
    "# natural log\n",
    "print(np.log(arr))  "
   ]
  },
  {
   "cell_type": "code",
   "execution_count": 10,
   "id": "6c375816-d2e6-4cdc-8e6f-50c4bead2af9",
   "metadata": {},
   "outputs": [
    {
     "name": "stdout",
     "output_type": "stream",
     "text": [
      "[[-2.57840612e-01 -4.47365246e+00 -2.08210558e+00 -1.79939933e+00\n",
      "  -2.78671110e+00]\n",
      " [-7.04113069e-01 -1.19781860e+00 -8.87626758e-01 -4.00327063e+00\n",
      "  -2.46599663e+00]\n",
      " [-3.77903888e+00 -2.76007554e+00 -8.59380562e-01 -1.38732914e+00\n",
      "  -2.55035168e+00]\n",
      " [-1.38327748e+00 -5.80319665e+00 -2.87331514e-02 -6.23527647e-01\n",
      "  -1.65490658e+00]\n",
      " [-3.54073340e-03 -3.57576629e+00 -7.35862479e-01 -3.31501314e+00\n",
      "  -1.11856795e+00]]\n"
     ]
    }
   ],
   "source": [
    "# base 2\n",
    "print(np.log2(arr)) "
   ]
  },
  {
   "cell_type": "code",
   "execution_count": 11,
   "id": "e0fff67e-3386-4759-aeb2-dacecf2bc9a5",
   "metadata": {},
   "outputs": [
    {
     "name": "stdout",
     "output_type": "stream",
     "text": [
      "[[-7.76177583e-02 -1.34670358e+00 -6.26776232e-01 -5.41673172e-01\n",
      "  -8.38883629e-01]\n",
      " [-2.11959154e-01 -3.60579327e-01 -2.67202279e-01 -1.20510454e+00\n",
      "  -7.42338956e-01]\n",
      " [-1.13760406e+00 -8.30865528e-01 -2.58699327e-01 -4.17627685e-01\n",
      "  -7.67732355e-01]\n",
      " [-4.16408013e-01 -1.74693626e+00 -8.64954044e-03 -1.87700525e-01\n",
      "  -4.98176522e-01]\n",
      " [-1.06586696e-03 -1.07641291e+00 -2.21516679e-01 -9.97918391e-01\n",
      "  -3.36722504e-01]]\n"
     ]
    }
   ],
   "source": [
    "# base 10\n",
    "print(np.log10(arr)) "
   ]
  },
  {
   "cell_type": "markdown",
   "id": "9f0ef37b-8e27-4b57-9483-afe7a468e7a1",
   "metadata": {},
   "source": [
    "# element-wise square root\r\n"
   ]
  },
  {
   "cell_type": "code",
   "execution_count": 13,
   "id": "f5e11857-b916-4164-a5c3-775a789eb9d7",
   "metadata": {},
   "outputs": [
    {
     "name": "stdout",
     "output_type": "stream",
     "text": [
      "[[0.91451561 0.21215253 0.48597271 0.5359983  0.38067836]\n",
      " [0.78346648 0.66025293 0.73518876 0.24971678 0.42543236]\n",
      " [0.26989695 0.38420874 0.74242115 0.61828137 0.4131748 ]\n",
      " [0.61915017 0.13382334 0.99009127 0.80565617 0.56352312]\n",
      " [0.99877363 0.28959666 0.77489286 0.31698653 0.6786389 ]]\n"
     ]
    }
   ],
   "source": [
    "print(np.sqrt(arr))\n"
   ]
  },
  {
   "cell_type": "code",
   "execution_count": 14,
   "id": "6faec2bd-7c61-4b6e-804b-6bbf4ce0902f",
   "metadata": {},
   "outputs": [
    {
     "name": "stdout",
     "output_type": "stream",
     "text": [
      "[[0.74219442 0.0449935  0.23398016 0.28335835 0.14440932]\n",
      " [0.57599411 0.42225717 0.51456694 0.06231806 0.18000614]\n",
      " [0.07277996 0.14708083 0.52370065 0.37302929 0.16988544]\n",
      " [0.37402656 0.01790773 0.8306537  0.60445524 0.31224788]\n",
      " [0.84014405 0.08376795 0.5650212  0.10031146 0.44444154]]\n"
     ]
    }
   ],
   "source": [
    "# element-wise sine and cosine\n",
    "print(np.sin(arr))\n"
   ]
  },
  {
   "cell_type": "code",
   "execution_count": 15,
   "id": "ecb3379b-1f87-4ffe-95e3-99b777551dce",
   "metadata": {},
   "outputs": [
    {
     "name": "stdout",
     "output_type": "stream",
     "text": [
      "[[0.67018464 0.99898728 0.97224137 0.9590141  0.98951804]\n",
      " [0.81745384 0.90647608 0.85745021 0.99805634 0.98366549]\n",
      " [0.99734802 0.98912448 0.85190236 0.92781957 0.98546382]\n",
      " [0.92741799 0.99983964 0.55678939 0.79663911 0.95000066]\n",
      " [0.54236333 0.99648529 0.82507639 0.99495608 0.89580786]]\n"
     ]
    }
   ],
   "source": [
    "print(np.cos(arr))\n"
   ]
  },
  {
   "cell_type": "markdown",
   "id": "dfc2d375-6608-4db8-a79c-9646c674c92a",
   "metadata": {},
   "source": [
    "# sum along a specified axis\r\n"
   ]
  },
  {
   "cell_type": "code",
   "execution_count": 17,
   "id": "cd0ab026-a18a-45db-b714-8ee12b730c5f",
   "metadata": {},
   "outputs": [
    {
     "data": {
      "text/plain": [
       "array([[0.83633879, 0.04500869, 0.23616948, 0.28729418, 0.14491601],\n",
       "       [0.61381973, 0.43593393, 0.54050252, 0.06235847, 0.18099269],\n",
       "       [0.07284436, 0.14761635, 0.55118917, 0.38227185, 0.17071341],\n",
       "       [0.38334693, 0.01790869, 0.98028072, 0.64908186, 0.31755831],\n",
       "       [0.99754876, 0.08386622, 0.60045895, 0.10048046, 0.46055075]])"
      ]
     },
     "execution_count": 17,
     "metadata": {},
     "output_type": "execute_result"
    }
   ],
   "source": [
    "arr"
   ]
  },
  {
   "cell_type": "code",
   "execution_count": 18,
   "id": "0596cf2a-a0a2-488a-817d-24a08f96b9ec",
   "metadata": {},
   "outputs": [
    {
     "name": "stdout",
     "output_type": "stream",
     "text": [
      "[2.90389857 0.73033389 2.90860083 1.48148682 1.27473118]\n"
     ]
    }
   ],
   "source": [
    "# sum along the row\n",
    "print(np.sum(arr, axis=0))    "
   ]
  },
  {
   "cell_type": "code",
   "execution_count": 19,
   "id": "f198c03d-3eea-4e4f-931e-76f18f8581e2",
   "metadata": {},
   "outputs": [
    {
     "name": "stdout",
     "output_type": "stream",
     "text": [
      "[1.54972716 1.83360735 1.32463514 2.3481765  2.24290514]\n"
     ]
    }
   ],
   "source": [
    "# sum along the column\n",
    "print(np.sum(arr, axis=1))  "
   ]
  },
  {
   "cell_type": "markdown",
   "id": "5e95228e-cf65-44b9-a7aa-1eb54e140891",
   "metadata": {},
   "source": [
    "## compute the min and max along a specified axis\r\n"
   ]
  },
  {
   "cell_type": "code",
   "execution_count": 21,
   "id": "e308a107-8f4e-4df2-b12e-e57f7d25de6e",
   "metadata": {},
   "outputs": [
    {
     "name": "stdout",
     "output_type": "stream",
     "text": [
      "[0.07284436 0.01790869 0.23616948 0.06235847 0.14491601]\n"
     ]
    }
   ],
   "source": [
    "# calculate min along the row\n",
    "print(np.min(arr, axis=0))"
   ]
  },
  {
   "cell_type": "code",
   "execution_count": 22,
   "id": "3d61e872-a8a8-41dc-9fb5-733cc7f2dcf7",
   "metadata": {},
   "outputs": [
    {
     "name": "stdout",
     "output_type": "stream",
     "text": [
      "[0.83633879 0.61381973 0.55118917 0.98028072 0.99754876]\n"
     ]
    }
   ],
   "source": [
    "# calculate max along the column\n",
    "print(np.max(arr, axis=1)) "
   ]
  },
  {
   "cell_type": "code",
   "execution_count": 23,
   "id": "d138c127-b7c2-419b-b9e6-7d148f191c7e",
   "metadata": {},
   "outputs": [
    {
     "name": "stdout",
     "output_type": "stream",
     "text": [
      "0.9975487598346944\n",
      "0.017908686697669873\n"
     ]
    }
   ],
   "source": [
    "# if axis not specified, calculate the max/min value of all elements\n",
    "print(np.max(arr))\n",
    "print(np.min(arr))"
   ]
  },
  {
   "cell_type": "markdown",
   "id": "eb2bf916-8eba-47f9-a6cb-628b60273bc5",
   "metadata": {},
   "source": [
    "## compute the indices of the min and max along a specified axis\r\n"
   ]
  },
  {
   "cell_type": "code",
   "execution_count": 25,
   "id": "dacc2841-27ef-49d9-9858-a797cdfa3702",
   "metadata": {},
   "outputs": [
    {
     "name": "stdout",
     "output_type": "stream",
     "text": [
      "[2 3 0 1 0]\n",
      "[4 1 3 3 4]\n"
     ]
    }
   ],
   "source": [
    "# along the row\n",
    "print(np.argmin(arr, axis=0))\n",
    "print(np.argmax(arr, axis=0))"
   ]
  },
  {
   "cell_type": "code",
   "execution_count": 26,
   "id": "fc0a6cba-66d6-434e-97d7-9c8863d8b6d1",
   "metadata": {},
   "outputs": [
    {
     "name": "stdout",
     "output_type": "stream",
     "text": [
      "[1 3 0 1 1]\n",
      "[0 0 2 2 0]\n"
     ]
    }
   ],
   "source": [
    "# along the column\n",
    "print(np.argmin(arr, axis=1))\n",
    "print(np.argmax(arr, axis=1))"
   ]
  },
  {
   "cell_type": "code",
   "execution_count": 27,
   "id": "abe1067c-8018-47cd-8dc6-010b7187ad7c",
   "metadata": {},
   "outputs": [
    {
     "name": "stdout",
     "output_type": "stream",
     "text": [
      "16\n",
      "20\n"
     ]
    }
   ],
   "source": [
    "# if axis not specified, return the index of the flattened array\n",
    "print(np.argmin(arr))\n",
    "print(np.argmax(arr))"
   ]
  },
  {
   "cell_type": "markdown",
   "id": "048817c5-9b0b-49a3-b2bd-ff259d96c2e4",
   "metadata": {},
   "source": [
    "# compute element-wise min and max of two arrays\n"
   ]
  },
  {
   "cell_type": "code",
   "execution_count": 29,
   "id": "9ba4657c-243e-474c-a803-a94bdde7ce5b",
   "metadata": {},
   "outputs": [
    {
     "name": "stdout",
     "output_type": "stream",
     "text": [
      "[1 4 5 8 9]\n",
      "[0 3 3 7 7]\n"
     ]
    }
   ],
   "source": [
    "arr1 = np.array([1, 3, 5, 7, 9])\n",
    "arr2 = np.array([0, 4, 3, 8, 7])\n",
    "print(np.maximum(arr1, arr2))\n",
    "print(np.minimum(arr1, arr2))\n"
   ]
  },
  {
   "cell_type": "markdown",
   "id": "356662cf-3267-4791-928d-6a5e6067ab8e",
   "metadata": {},
   "source": [
    "## split fractional and integral parts of a floating-point array\r\n"
   ]
  },
  {
   "cell_type": "code",
   "execution_count": 65,
   "id": "377a265d-c1af-4fd8-978b-5ef0b1bde19d",
   "metadata": {},
   "outputs": [
    {
     "name": "stdout",
     "output_type": "stream",
     "text": [
      "[0.87221193 0.96667951 8.38504904 1.8808737  3.32007997 0.38792521\n",
      " 5.07120478 2.8817311  1.06981433 0.61739095]\n",
      "\n",
      "fractional:  [0.87221193 0.96667951 0.38504904 0.8808737  0.32007997 0.38792521\n",
      " 0.07120478 0.8817311  0.06981433 0.61739095]\n",
      "\n",
      "integral:  [0. 0. 8. 1. 3. 0. 5. 2. 1. 0.]\n"
     ]
    }
   ],
   "source": [
    "arr1 = np.random.rand(10) * 10\n",
    "re, intg = np.modf(arr1)\n",
    "print(arr1)\n",
    "print()\n",
    "print('fractional: ', re)\n",
    "print()\n",
    "print('integral: ', intg)"
   ]
  },
  {
   "cell_type": "markdown",
   "id": "150e1a11-4fd3-4a72-8b1f-3ca087733dbe",
   "metadata": {},
   "source": [
    "# compute the mean\r\n"
   ]
  },
  {
   "cell_type": "code",
   "execution_count": 68,
   "id": "d8551886-8583-4f1f-a50f-573d391961f2",
   "metadata": {},
   "outputs": [
    {
     "name": "stdout",
     "output_type": "stream",
     "text": [
      "0.3719620514945822\n"
     ]
    }
   ],
   "source": [
    "# compute the overall mean\n",
    "print(np.mean(arr))"
   ]
  },
  {
   "cell_type": "code",
   "execution_count": 70,
   "id": "d424304f-944c-40bd-a0a7-db5d0f85a816",
   "metadata": {},
   "outputs": [
    {
     "name": "stdout",
     "output_type": "stream",
     "text": [
      "[[0.83633879 0.04500869 0.23616948 0.28729418 0.14491601]\n",
      " [0.61381973 0.43593393 0.54050252 0.06235847 0.18099269]\n",
      " [0.07284436 0.14761635 0.55118917 0.38227185 0.17071341]\n",
      " [0.38334693 0.01790869 0.98028072 0.64908186 0.31755831]\n",
      " [0.99754876 0.08386622 0.60045895 0.10048046 0.46055075]]\n",
      "\n",
      "[0.58077971 0.14606678 0.58172017 0.29629736 0.25494624]\n"
     ]
    }
   ],
   "source": [
    "# compute the mean along the row\n",
    "print(arr)\n",
    "print()\n",
    "print(np.mean(arr, axis=0))   \n"
   ]
  },
  {
   "cell_type": "code",
   "execution_count": 72,
   "id": "d36e7606-fe34-4a74-b4e1-7619490ed4e1",
   "metadata": {},
   "outputs": [
    {
     "name": "stdout",
     "output_type": "stream",
     "text": [
      "[0.30994543 0.36672147 0.26492703 0.4696353  0.44858103]\n"
     ]
    }
   ],
   "source": [
    "# compute the mean along the column\n",
    "print(np.mean(arr, axis=1)) "
   ]
  },
  {
   "cell_type": "markdown",
   "id": "d3e1419b-b378-41c7-a52d-f5117904d420",
   "metadata": {},
   "source": [
    "# compute the median\n",
    "\n"
   ]
  },
  {
   "cell_type": "code",
   "execution_count": 85,
   "id": "1e4dd377-8833-4df7-bc4c-7fb2f16695e1",
   "metadata": {},
   "outputs": [
    {
     "name": "stdout",
     "output_type": "stream",
     "text": [
      "0.31755830740018975\n"
     ]
    }
   ],
   "source": [
    "# compute the overall median\n",
    "print(np.median(arr))"
   ]
  },
  {
   "cell_type": "code",
   "execution_count": 87,
   "id": "19e699f1-7925-455e-8b69-19729f2679bd",
   "metadata": {},
   "outputs": [
    {
     "name": "stdout",
     "output_type": "stream",
     "text": [
      "[0.61381973 0.08386622 0.55118917 0.28729418 0.18099269]\n"
     ]
    }
   ],
   "source": [
    "# compute the median along the row\n",
    "print(np.median(arr, axis=0)) "
   ]
  },
  {
   "cell_type": "code",
   "execution_count": 89,
   "id": "fac1d949-c3bb-4ca3-af12-276dac10aea4",
   "metadata": {},
   "outputs": [
    {
     "name": "stdout",
     "output_type": "stream",
     "text": [
      "[0.23616948 0.43593393 0.17071341 0.38334693 0.46055075]\n"
     ]
    }
   ],
   "source": [
    "# compute the median along the column\n",
    "print(np.median(arr, axis=1))"
   ]
  },
  {
   "cell_type": "markdown",
   "id": "7839d85c-65ff-409a-ab4f-db4bc7cd413f",
   "metadata": {},
   "source": [
    "# compute the percentile\r\n"
   ]
  },
  {
   "cell_type": "code",
   "execution_count": 92,
   "id": "feeb04da-3a73-41a3-adfb-68ae4dd3e6cb",
   "metadata": {},
   "outputs": [
    {
     "name": "stdout",
     "output_type": "stream",
     "text": [
      "[0.05376085 0.66629636 0.96790671]\n"
     ]
    }
   ],
   "source": [
    "arr1 = np.random.rand(100)\n",
    "# compute 5, 65, and 95 percentiles of the array\n",
    "print(np.percentile(arr1, [5, 65, 95]))"
   ]
  },
  {
   "cell_type": "markdown",
   "id": "70909fa5-71af-45ea-acaa-e550d92c6649",
   "metadata": {},
   "source": [
    "# compute the standard deviation & variance\n"
   ]
  },
  {
   "cell_type": "code",
   "execution_count": 95,
   "id": "e10957e1-c35f-4bd0-b945-9b369139c0c8",
   "metadata": {},
   "outputs": [
    {
     "name": "stdout",
     "output_type": "stream",
     "text": [
      "0.2841802751415273\n"
     ]
    }
   ],
   "source": [
    "# compute the overall standard deviation\n",
    "print(np.std(arr))"
   ]
  },
  {
   "cell_type": "code",
   "execution_count": 99,
   "id": "aa72fd5b-a696-4143-80c3-539b37fb3168",
   "metadata": {},
   "outputs": [
    {
     "name": "stdout",
     "output_type": "stream",
     "text": [
      "[0.32774275 0.15134828 0.23716575 0.21213262 0.11904993]\n",
      "[0.27585218 0.21127223 0.17620986 0.32483529 0.34022541]\n"
     ]
    }
   ],
   "source": [
    "# compute the standard deviation along the row\n",
    "print(np.std(arr, axis=0))\n",
    "\n",
    "# compute the standard deviation along the column\n",
    "print(np.std(arr, axis=1))"
   ]
  },
  {
   "cell_type": "code",
   "execution_count": 101,
   "id": "54d8b10e-f3d1-4f63-aaff-d92ffd24bb40",
   "metadata": {},
   "outputs": [
    {
     "name": "stdout",
     "output_type": "stream",
     "text": [
      "0.08075842877951418\n"
     ]
    }
   ],
   "source": [
    "# compute the overall variance\n",
    "print(np.var(arr))"
   ]
  },
  {
   "cell_type": "code",
   "execution_count": 103,
   "id": "721141d7-9e57-49bc-b493-79cd55cccfb8",
   "metadata": {},
   "outputs": [
    {
     "name": "stdout",
     "output_type": "stream",
     "text": [
      "[0.10741531 0.0229063  0.05624759 0.04500025 0.01417289]\n"
     ]
    }
   ],
   "source": [
    "# compute the variance along the row\n",
    "print(np.var(arr, axis=0))"
   ]
  },
  {
   "cell_type": "code",
   "execution_count": 105,
   "id": "a03b475e-524b-4bc6-979c-5a7698b5f9dc",
   "metadata": {},
   "outputs": [
    {
     "name": "stdout",
     "output_type": "stream",
     "text": [
      "[0.07609443 0.04463596 0.03104991 0.10551797 0.11575333]\n"
     ]
    }
   ],
   "source": [
    "# compute the variance along the column\n",
    "print(np.var(arr, axis=1))"
   ]
  },
  {
   "cell_type": "markdown",
   "id": "a4d8f28a-4c3e-42dd-bbc1-fc99932625b0",
   "metadata": {},
   "source": [
    "# compute the covariance & correlation\r\n"
   ]
  },
  {
   "cell_type": "code",
   "execution_count": 108,
   "id": "f89cf16f-eb19-4b34-b4a0-c3ecce4e63df",
   "metadata": {},
   "outputs": [
    {
     "name": "stdout",
     "output_type": "stream",
     "text": [
      "[[ 0.11397733  0.03860548  0.03469145 -0.05229306 -0.0118081 ]\n",
      " [ 0.03860548  0.03446678  0.01490435 -0.00489634  0.00995285]\n",
      " [ 0.03469145  0.01490435  0.06582618 -0.00718345 -0.02319293]\n",
      " [-0.05229306 -0.00489634 -0.00718345  0.08718274  0.00244981]\n",
      " [-0.0118081   0.00995285 -0.02319293  0.00244981  0.02435473]]\n"
     ]
    }
   ],
   "source": [
    "arr = np.random.rand(5,8)\n",
    "print(np.cov(arr))"
   ]
  },
  {
   "cell_type": "code",
   "execution_count": 110,
   "id": "8a33f3b4-37a9-4d3c-957e-ba2d1fa97d49",
   "metadata": {},
   "outputs": [
    {
     "name": "stdout",
     "output_type": "stream",
     "text": [
      "[[ 1.         -0.71082755]\n",
      " [-0.71082755  1.        ]]\n"
     ]
    }
   ],
   "source": [
    "print(np.corrcoef(arr[:,0], arr[:,1]))"
   ]
  },
  {
   "cell_type": "markdown",
   "id": "cab7d7ab-be88-4f60-89fd-52011a6889f4",
   "metadata": {},
   "source": [
    "# compute cumulative sum & product\r\n"
   ]
  },
  {
   "cell_type": "code",
   "execution_count": 113,
   "id": "a9852205-94e9-4bf1-8f71-025049548153",
   "metadata": {},
   "outputs": [
    {
     "name": "stdout",
     "output_type": "stream",
     "text": [
      "[[0.14835924 0.69572857 0.94208852 0.65276189 0.90511418 0.86359567\n",
      "  0.16393901 0.9891948 ]\n",
      " [0.54479228 1.17025916 1.46724848 1.3190801  1.30751108 1.31181403\n",
      "  0.1878518  1.50448337]\n",
      " [0.86574051 1.56542959 1.91807326 2.16858525 2.20475425 2.18375945\n",
      "  0.58290616 1.85748883]\n",
      " [1.47759398 1.87323034 2.67563897 3.06106101 2.43007692 2.43670504\n",
      "  1.35822359 1.99927178]\n",
      " [2.21331607 2.30503364 3.13646965 3.49201804 2.73496483 2.73478925\n",
      "  1.63031589 2.56539787]]\n"
     ]
    }
   ],
   "source": [
    "# calculate the cumulative sums along the row\n",
    "print(np.cumsum(arr, axis=0))  "
   ]
  },
  {
   "cell_type": "code",
   "execution_count": 115,
   "id": "9d24eb4d-1711-467d-955b-25940f1a5b49",
   "metadata": {},
   "outputs": [
    {
     "name": "stdout",
     "output_type": "stream",
     "text": [
      "[[0.14835924 0.84408781 1.78617633 2.43893822 3.3440524  4.20764807\n",
      "  4.37158708 5.36078189]\n",
      " [0.39643304 0.87096362 1.39612358 2.0624418  2.4648387  2.91305705\n",
      "  2.93696984 3.45225841]\n",
      " [0.32094823 0.71611867 1.16694344 2.01644859 2.91369176 3.78563718\n",
      "  4.18069155 4.53369701]\n",
      " [0.61185348 0.91965422 1.67721993 2.5696957  2.79501836 3.04796395\n",
      "  3.82328138 3.96506432]\n",
      " [0.73572209 1.16752539 1.62835608 2.05931311 2.36420101 2.66228522\n",
      "  2.93437752 3.50050362]]\n"
     ]
    }
   ],
   "source": [
    "# calculate the cumulative sums along the column\n",
    "print(np.cumsum(arr, axis=1))    "
   ]
  },
  {
   "cell_type": "code",
   "execution_count": 117,
   "id": "959bed4f-a0ad-4db0-a4d1-70aa80394f5b",
   "metadata": {},
   "outputs": [
    {
     "name": "stdout",
     "output_type": "stream",
     "text": [
      "[[1.48359238e-01 6.95728571e-01 9.42088521e-01 6.52761886e-01\n",
      "  9.05114184e-01 8.63595673e-01 1.63939011e-01 9.89194802e-01]\n",
      " [5.88145033e-02 3.30144486e-01 4.94747168e-01 4.34947137e-01\n",
      "  3.64215140e-01 3.87079433e-01 3.92023883e-03 5.09720774e-01]\n",
      " [1.88764108e-02 1.30463340e-01 2.23044282e-01 3.69489830e-01\n",
      "  3.26789548e-01 3.37512141e-01 1.54870746e-03 1.79934217e-01]\n",
      " [1.15495976e-02 4.01567136e-02 1.68970700e-01 3.29760718e-01\n",
      "  7.36330927e-02 8.53722070e-02 1.20073988e-03 2.55116032e-02]\n",
      " [8.49729409e-03 1.73398014e-02 7.78668835e-02 1.42112699e-01\n",
      "  2.24498395e-02 2.54481065e-02 3.26712081e-04 1.44427842e-02]]\n"
     ]
    }
   ],
   "source": [
    "# calculate the cumulative product along the row\n",
    "print(np.cumprod(arr, axis=0))   "
   ]
  },
  {
   "cell_type": "code",
   "execution_count": 119,
   "id": "2d93fad0-65d7-4889-9c98-e71b067ee987",
   "metadata": {},
   "outputs": [
    {
     "name": "stdout",
     "output_type": "stream",
     "text": [
      "[[1.48359238e-01 1.03217761e-01 9.72402675e-02 6.34747404e-02\n",
      "  5.74518879e-02 4.96152018e-02 8.13386711e-03 8.04597906e-03]\n",
      " [3.96433037e-01 1.88119601e-01 9.87928818e-02 6.58274970e-02\n",
      "  2.64887806e-02 1.18727577e-02 2.83910739e-04 1.46295958e-04]\n",
      " [3.20948232e-01 1.26829252e-01 5.71777692e-02 4.85728091e-02\n",
      "  4.35816213e-02 3.80007953e-02 1.50123800e-02 5.29945213e-03]\n",
      " [6.11853475e-01 1.88328957e-01 1.42671560e-01 1.27330910e-01\n",
      "  2.86905402e-02 7.25714558e-03 5.62659143e-03 7.97754702e-04]\n",
      " [7.35722092e-01 3.17687226e-01 1.46400022e-01 6.30921188e-02\n",
      "  1.92360240e-02 5.73395494e-03 1.56016502e-03 8.83250126e-04]]\n"
     ]
    }
   ],
   "source": [
    "# calculate the cumulative product along the column\n",
    "print(np.cumprod(arr, axis=1)) "
   ]
  },
  {
   "cell_type": "markdown",
   "id": "5ac7ac37-fdce-4c35-a27c-fc1618d08df4",
   "metadata": {},
   "source": [
    "# element-wise comparison\r\n"
   ]
  },
  {
   "cell_type": "code",
   "execution_count": 122,
   "id": "4fce05c7-30d9-4f98-82c5-941adcdc1983",
   "metadata": {},
   "outputs": [],
   "source": [
    "arr1 = np.array([1,2,3,4,5])\n",
    "arr2 = np.array([5,4,3,2,1])\n"
   ]
  },
  {
   "cell_type": "code",
   "execution_count": 124,
   "id": "7a5b2899-2278-49ad-a6a6-57e66e89fd76",
   "metadata": {},
   "outputs": [
    {
     "name": "stdout",
     "output_type": "stream",
     "text": [
      "[False False  True False False]\n",
      "[ True  True False False False]\n"
     ]
    }
   ],
   "source": [
    "# return an array of bools\n",
    "print(arr1 == arr2)    \n",
    "print(arr1 < 3)"
   ]
  },
  {
   "cell_type": "code",
   "execution_count": null,
   "id": "28cfc4af-2064-4fb8-9d81-ecd1114f786c",
   "metadata": {},
   "outputs": [],
   "source": []
  }
 ],
 "metadata": {
  "kernelspec": {
   "display_name": "Python 3 (ipykernel)",
   "language": "python",
   "name": "python3"
  },
  "language_info": {
   "codemirror_mode": {
    "name": "ipython",
    "version": 3
   },
   "file_extension": ".py",
   "mimetype": "text/x-python",
   "name": "python",
   "nbconvert_exporter": "python",
   "pygments_lexer": "ipython3",
   "version": "3.12.4"
  }
 },
 "nbformat": 4,
 "nbformat_minor": 5
}
