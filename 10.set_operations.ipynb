{
 "cells": [
  {
   "cell_type": "markdown",
   "id": "51968f3b-72d9-4144-935e-16b3065e1266",
   "metadata": {},
   "source": [
    "# set operations"
   ]
  },
  {
   "cell_type": "code",
   "execution_count": 2,
   "id": "e7d0badb-54f7-453a-a8b6-b3a5b6b28067",
   "metadata": {},
   "outputs": [],
   "source": [
    "import numpy as np"
   ]
  },
  {
   "cell_type": "markdown",
   "id": "e4ac1d66-e9c1-4fcb-9a32-1fd56fc771f4",
   "metadata": {},
   "source": [
    "# select the unique elements from an array\r\n"
   ]
  },
  {
   "cell_type": "code",
   "execution_count": 5,
   "id": "d716553a-cdc0-4a2a-9aa9-2a78bf199eac",
   "metadata": {},
   "outputs": [
    {
     "name": "stdout",
     "output_type": "stream",
     "text": [
      "[1 2 3 4 5 6]\n"
     ]
    }
   ],
   "source": [
    "arr = np.array([1,1,2,2,3,3,4,5,6])\n",
    "print(np.unique(arr))"
   ]
  },
  {
   "cell_type": "code",
   "execution_count": 7,
   "id": "b143e02e-cc76-4cbe-a614-ba9a1b87e8d0",
   "metadata": {},
   "outputs": [
    {
     "name": "stdout",
     "output_type": "stream",
     "text": [
      "[1 2 3 4 5 6]\n",
      "[2 2 2 1 1 1]\n"
     ]
    }
   ],
   "source": [
    "# return the number of times each unique item appears\n",
    "arr = np.array([1,1,2,2,3,3,4,5,6])\n",
    "uniques, counts = np.unique(arr, return_counts=True)\n",
    "print(uniques)\n",
    "print(counts)"
   ]
  },
  {
   "cell_type": "markdown",
   "id": "03f929fe-cd06-4f99-8cb9-3c498eff2c83",
   "metadata": {},
   "source": [
    "### compute the intersection & union of two arrays\r\n"
   ]
  },
  {
   "cell_type": "code",
   "execution_count": 11,
   "id": "a78b251b-38d2-4e4d-b581-0d182287e160",
   "metadata": {},
   "outputs": [],
   "source": [
    "arr1 = np.array([1,2,3,4,5])\n",
    "arr2 = np.array([3,4,5,6,7])"
   ]
  },
  {
   "cell_type": "code",
   "execution_count": 13,
   "id": "89c1b9e9-a6d7-44ca-80e0-f9f5706443fc",
   "metadata": {},
   "outputs": [
    {
     "name": "stdout",
     "output_type": "stream",
     "text": [
      "[3 4 5]\n"
     ]
    }
   ],
   "source": [
    "# intersection\n",
    "print(np.intersect1d(arr1, arr2))"
   ]
  },
  {
   "cell_type": "code",
   "execution_count": 15,
   "id": "d884d8aa-a63f-400a-8996-f617f85fd99c",
   "metadata": {},
   "outputs": [
    {
     "name": "stdout",
     "output_type": "stream",
     "text": [
      "[1 2 3 4 5 6 7]\n"
     ]
    }
   ],
   "source": [
    "# union\n",
    "print(np.union1d(arr1, arr2))"
   ]
  },
  {
   "cell_type": "markdown",
   "id": "94d8a026-e85a-4504-94d0-201f6cf1b893",
   "metadata": {},
   "source": [
    "### compute whether each element of an array is contained in another\r\n"
   ]
  },
  {
   "cell_type": "code",
   "execution_count": 18,
   "id": "c3d0ae4f-313d-4ab4-8a9a-2a41ee947891",
   "metadata": {},
   "outputs": [
    {
     "name": "stdout",
     "output_type": "stream",
     "text": [
      "[False False  True  True  True]\n"
     ]
    }
   ],
   "source": [
    "print(np.in1d(arr1, arr2))\n"
   ]
  },
  {
   "cell_type": "code",
   "execution_count": 20,
   "id": "f4aae298-e496-4f13-ab24-b65133862676",
   "metadata": {},
   "outputs": [
    {
     "name": "stdout",
     "output_type": "stream",
     "text": [
      "[False False  True  True  True]\n"
     ]
    }
   ],
   "source": [
    "# preserve the shape of the array in the output, if the array is of higher dimensions\n",
    "print(np.isin(arr1, arr2))\n"
   ]
  },
  {
   "cell_type": "markdown",
   "id": "32a2830b-fefa-4ae8-b25f-6ee4687a1ffd",
   "metadata": {},
   "source": [
    "### compute the elements in an array that are not in another\n"
   ]
  },
  {
   "cell_type": "code",
   "execution_count": 24,
   "id": "6743d3a9-a044-40d3-8771-2fc5ec29393d",
   "metadata": {},
   "outputs": [
    {
     "name": "stdout",
     "output_type": "stream",
     "text": [
      "[1 2]\n"
     ]
    }
   ],
   "source": [
    "print(np.setdiff1d(arr1, arr2))\n"
   ]
  },
  {
   "cell_type": "markdown",
   "id": "8a06b8dc-d79e-4e47-b39d-f5054e8c0e67",
   "metadata": {},
   "source": [
    "### compute the elements in either of two arrays, but not both\r\n"
   ]
  },
  {
   "cell_type": "code",
   "execution_count": 27,
   "id": "d1c2ccef-29a1-490d-917c-e5d52996fdbb",
   "metadata": {},
   "outputs": [
    {
     "name": "stdout",
     "output_type": "stream",
     "text": [
      "[1 2 6 7]\n"
     ]
    }
   ],
   "source": [
    "print(np.setxor1d(arr1, arr2))\n"
   ]
  },
  {
   "cell_type": "code",
   "execution_count": null,
   "id": "15b57da9-513b-4cd1-9ea3-58d43b96bf7a",
   "metadata": {},
   "outputs": [],
   "source": []
  }
 ],
 "metadata": {
  "kernelspec": {
   "display_name": "Python 3 (ipykernel)",
   "language": "python",
   "name": "python3"
  },
  "language_info": {
   "codemirror_mode": {
    "name": "ipython",
    "version": 3
   },
   "file_extension": ".py",
   "mimetype": "text/x-python",
   "name": "python",
   "nbconvert_exporter": "python",
   "pygments_lexer": "ipython3",
   "version": "3.12.4"
  }
 },
 "nbformat": 4,
 "nbformat_minor": 5
}
