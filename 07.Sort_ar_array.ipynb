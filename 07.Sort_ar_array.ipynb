{
 "cells": [
  {
   "cell_type": "markdown",
   "id": "8f00b02c-7fd4-400a-be07-b6a88a4b3f2b",
   "metadata": {},
   "source": [
    "# Sorting"
   ]
  },
  {
   "cell_type": "code",
   "execution_count": 2,
   "id": "0d266b5a-beb6-4d53-adfb-e777d1657210",
   "metadata": {},
   "outputs": [],
   "source": [
    "import numpy as np"
   ]
  },
  {
   "cell_type": "code",
   "execution_count": 4,
   "id": "da2adb46-9797-47be-9fa2-015d07f74c88",
   "metadata": {},
   "outputs": [
    {
     "data": {
      "text/plain": [
       "array([[0.94799246, 0.68866428, 0.41913207, 0.25703947, 0.4216061 ],\n",
       "       [0.06645536, 0.23532454, 0.84906966, 0.19713479, 0.2211908 ],\n",
       "       [0.72772695, 0.07649396, 0.79744011, 0.83841222, 0.21512548],\n",
       "       [0.22804298, 0.25726296, 0.93818763, 0.35827132, 0.99281668],\n",
       "       [0.9101987 , 0.53269629, 0.0707089 , 0.15746308, 0.03036832]])"
      ]
     },
     "execution_count": 4,
     "metadata": {},
     "output_type": "execute_result"
    }
   ],
   "source": [
    "arr = np.random.rand(5,5)\n",
    "arr"
   ]
  },
  {
   "cell_type": "code",
   "execution_count": 6,
   "id": "554a0934-508e-4525-8e22-a4cdfa5b9353",
   "metadata": {},
   "outputs": [
    {
     "name": "stdout",
     "output_type": "stream",
     "text": [
      "[[0.06645536 0.07649396 0.0707089  0.15746308 0.03036832]\n",
      " [0.22804298 0.23532454 0.41913207 0.19713479 0.21512548]\n",
      " [0.72772695 0.25726296 0.79744011 0.25703947 0.2211908 ]\n",
      " [0.9101987  0.53269629 0.84906966 0.35827132 0.4216061 ]\n",
      " [0.94799246 0.68866428 0.93818763 0.83841222 0.99281668]]\n"
     ]
    }
   ],
   "source": [
    "# sort along the row and return a copy\n",
    "print(np.sort(arr, axis=0))   "
   ]
  },
  {
   "cell_type": "code",
   "execution_count": 8,
   "id": "f0430ed4-27b7-4420-99a3-f793288fb00b",
   "metadata": {},
   "outputs": [
    {
     "name": "stdout",
     "output_type": "stream",
     "text": [
      "[[0.06645536 0.07649396 0.0707089  0.15746308 0.03036832]\n",
      " [0.22804298 0.23532454 0.41913207 0.19713479 0.21512548]\n",
      " [0.72772695 0.25726296 0.79744011 0.25703947 0.2211908 ]\n",
      " [0.9101987  0.53269629 0.84906966 0.35827132 0.4216061 ]\n",
      " [0.94799246 0.68866428 0.93818763 0.83841222 0.99281668]]\n"
     ]
    }
   ],
   "source": [
    "# sort along the row in place\n",
    "arr.sort(axis=0)\n",
    "print(arr)"
   ]
  },
  {
   "cell_type": "code",
   "execution_count": 10,
   "id": "fccac809-cdf7-4d4b-8d65-3c306ea90ed3",
   "metadata": {},
   "outputs": [
    {
     "name": "stdout",
     "output_type": "stream",
     "text": [
      "[[0.03036832 0.06645536 0.0707089  0.07649396 0.15746308]\n",
      " [0.19713479 0.21512548 0.22804298 0.23532454 0.41913207]\n",
      " [0.2211908  0.25703947 0.25726296 0.72772695 0.79744011]\n",
      " [0.35827132 0.4216061  0.53269629 0.84906966 0.9101987 ]\n",
      " [0.68866428 0.83841222 0.93818763 0.94799246 0.99281668]]\n"
     ]
    }
   ],
   "source": [
    "\n",
    "# sort along the column and return a copy\n",
    "print(np.sort(arr, axis=1))  "
   ]
  },
  {
   "cell_type": "code",
   "execution_count": 12,
   "id": "4aa3d221-faec-4fb8-9cee-dc452adcab11",
   "metadata": {},
   "outputs": [
    {
     "name": "stdout",
     "output_type": "stream",
     "text": [
      "[[0.03036832 0.06645536 0.0707089  0.07649396 0.15746308]\n",
      " [0.19713479 0.21512548 0.22804298 0.23532454 0.41913207]\n",
      " [0.2211908  0.25703947 0.25726296 0.72772695 0.79744011]\n",
      " [0.35827132 0.4216061  0.53269629 0.84906966 0.9101987 ]\n",
      " [0.68866428 0.83841222 0.93818763 0.94799246 0.99281668]]\n"
     ]
    }
   ],
   "source": [
    "# sort along the column in place\n",
    "arr.sort(axis=1)    \n",
    "print(arr)"
   ]
  },
  {
   "cell_type": "markdown",
   "id": "0d4bb437-34cf-4202-aab0-a10352b44249",
   "metadata": {},
   "source": [
    "# compute the indices that would sort an array along a specified axis\r\n"
   ]
  },
  {
   "cell_type": "code",
   "execution_count": 27,
   "id": "76de360b-e57c-4ee8-ad3b-21196af56418",
   "metadata": {},
   "outputs": [
    {
     "data": {
      "text/plain": [
       "array([[0.63942423, 0.44476609, 0.69622146, 0.44747812, 0.68720538],\n",
       "       [0.79383628, 0.92273934, 0.11394592, 0.30988345, 0.42868908],\n",
       "       [0.9762806 , 0.21324108, 0.86340656, 0.91570637, 0.0865708 ],\n",
       "       [0.59920196, 0.46867942, 0.36882077, 0.51479836, 0.90479758],\n",
       "       [0.92264999, 0.61228014, 0.07456081, 0.74493883, 0.45560427]])"
      ]
     },
     "execution_count": 27,
     "metadata": {},
     "output_type": "execute_result"
    }
   ],
   "source": [
    "arr = np.random.rand(5,5)\n",
    "arr"
   ]
  },
  {
   "cell_type": "code",
   "execution_count": 29,
   "id": "98f64210-5076-442a-ac31-734ca6dfbfed",
   "metadata": {},
   "outputs": [
    {
     "name": "stdout",
     "output_type": "stream",
     "text": [
      "[[3 2 4 1 2]\n",
      " [0 0 1 0 1]\n",
      " [1 3 3 3 4]\n",
      " [4 4 0 4 0]\n",
      " [2 1 2 2 3]]\n"
     ]
    }
   ],
   "source": [
    "# along the row\n",
    "print(np.argsort(arr, axis=0))"
   ]
  },
  {
   "cell_type": "code",
   "execution_count": 31,
   "id": "62b8321d-d824-413b-8e94-11d4c0211145",
   "metadata": {},
   "outputs": [
    {
     "name": "stdout",
     "output_type": "stream",
     "text": [
      "[[1 3 0 4 2]\n",
      " [2 3 4 0 1]\n",
      " [4 1 2 3 0]\n",
      " [2 1 3 0 4]\n",
      " [2 4 1 3 0]]\n"
     ]
    }
   ],
   "source": [
    "# along the column\n",
    "print(np.argsort(arr, axis=1))\n"
   ]
  },
  {
   "cell_type": "code",
   "execution_count": 33,
   "id": "f83168e5-587a-4b86-bb56-75662aa10d70",
   "metadata": {},
   "outputs": [
    {
     "name": "stdout",
     "output_type": "stream",
     "text": [
      "[22 14  7 11  8 17  9  1  3 24 16 18 15 21  0  4  2 23  5 12 19 13 20  6\n",
      " 10]\n"
     ]
    }
   ],
   "source": [
    "# if axis=None, return the indices of a flattened array\n",
    "print(np.argsort(arr, axis=None))"
   ]
  },
  {
   "cell_type": "code",
   "execution_count": null,
   "id": "6d58d585-e921-4a24-8a31-8d937ef2a16f",
   "metadata": {},
   "outputs": [],
   "source": []
  },
  {
   "cell_type": "code",
   "execution_count": null,
   "id": "249d2c92-d3fd-4ee9-98f9-843447fa8c4d",
   "metadata": {},
   "outputs": [],
   "source": []
  }
 ],
 "metadata": {
  "kernelspec": {
   "display_name": "Python 3 (ipykernel)",
   "language": "python",
   "name": "python3"
  },
  "language_info": {
   "codemirror_mode": {
    "name": "ipython",
    "version": 3
   },
   "file_extension": ".py",
   "mimetype": "text/x-python",
   "name": "python",
   "nbconvert_exporter": "python",
   "pygments_lexer": "ipython3",
   "version": "3.12.4"
  }
 },
 "nbformat": 4,
 "nbformat_minor": 5
}
